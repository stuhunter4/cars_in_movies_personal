{
 "cells": [
  {
   "cell_type": "code",
   "execution_count": 1,
   "metadata": {},
   "outputs": [],
   "source": [
    "# dependencies\n",
    "import pandas as pd\n",
    "import time\n",
    "from datetime import date\n",
    "from bs4 import BeautifulSoup as bs\n",
    "from splinter import Browser\n",
    "from webdriver_manager.chrome import ChromeDriverManager"
   ]
  },
  {
   "cell_type": "code",
   "execution_count": 2,
   "metadata": {},
   "outputs": [],
   "source": [
    "# export dataframe of results with today's date\n",
    "today = date.today()\n",
    "d_today = today.strftime(\"%Y_%m_%d\")"
   ]
  },
  {
   "cell_type": "markdown",
   "metadata": {},
   "source": [
    "## Preparation for Scrape Function"
   ]
  },
  {
   "cell_type": "code",
   "execution_count": 3,
   "metadata": {},
   "outputs": [],
   "source": [
    "top_100df = pd.read_csv(\"output_data/Top100_Movies_2010-2021.csv\")"
   ]
  },
  {
   "cell_type": "code",
   "execution_count": 4,
   "metadata": {},
   "outputs": [
    {
     "name": "stdout",
     "output_type": "stream",
     "text": [
      "[2010, 2011, 2012, 2013, 2014, 2015, 2016, 2017, 2018, 2019, 2020, 2021]\n"
     ]
    }
   ],
   "source": [
    "# create list of years\n",
    "years = top_100df[\"Year\"].unique().tolist()\n",
    "print(years)"
   ]
  },
  {
   "cell_type": "code",
   "execution_count": 5,
   "metadata": {},
   "outputs": [
    {
     "name": "stdout",
     "output_type": "stream",
     "text": [
      "{2010: [], 2011: [], 2012: [], 2013: [], 2014: [], 2015: [], 2016: [], 2017: [], 2018: [], 2019: [], 2020: [], 2021: []}\n"
     ]
    }
   ],
   "source": [
    "# use a dictionary to create multiple empty lists to store each  year's top 100 movies\n",
    "obj = {}\n",
    "for year in years:\n",
    "    obj[year] = []\n",
    "print(obj)"
   ]
  },
  {
   "cell_type": "code",
   "execution_count": 6,
   "metadata": {},
   "outputs": [],
   "source": [
    "# set the year of movies we are scraping data for; each year is done individually for quality control\n",
    "scrape_year = 2015"
   ]
  },
  {
   "cell_type": "code",
   "execution_count": 7,
   "metadata": {},
   "outputs": [
    {
     "name": "stdout",
     "output_type": "stream",
     "text": [
      "['Jurassic World', 'Star Wars: Episode VII - The Force Awakens', 'Avengers: Age of Ultron', 'Inside Out', 'Furious 7', 'American Sniper', 'Minions', 'The Hunger Games: Mockingjay - Part 2', 'The Martian', 'Cinderella', 'Spectre', 'Mission: Impossible - Rogue Nation', 'Pitch Perfect 2', 'Ant-Man', 'Home', 'Hotel Transylvania 2', 'Fifty Shades of Grey', 'The SpongeBob Movie: Sponge Out of Water', 'Straight Outta Compton', 'San Andreas', 'Mad Max: Fury Road', 'The Divergent Series: Insurgent', 'Kingsman: The Secret Service', 'The Peanuts Movie', 'Spy', 'The Good Dinosaur', 'Trainwreck', 'Creed', 'Tomorrowland', 'Get Hard', 'Terminator Genisys', 'Taken 3', 'Maze Runner: The Scorch Trials', 'Ted 2', 'Goosebumps', 'Pixels', 'Paddington', 'The Intern', 'The Imitation Game', 'Paul Blart: Mall Cop 2', 'Bridge of Spies', 'War Room', 'Magic Mike XXL', 'The Hobbit: The Battle of the Five Armies', 'The Visit', \"Daddy's Home\", 'The Wedding Ringer', 'Into the Woods', 'Black Mass', 'Vacation', 'The Perfect Guy', 'Fantastic Four', 'Alvin and the Chipmunks: The Road Chip', 'Focus', 'Unbroken', 'Southpaw', 'Insidious: Chapter 3', 'Selma', 'Sisters', 'Poltergeist', 'Jupiter Ascending', 'Sicario', 'The Man from U.N.C.L.E.', 'McFarland, USA', 'Night at the Museum: Secret of the Tomb', 'The Gift', 'Everest', 'The Night Before', 'Max', 'The Age of Adaline', 'Krampus', 'The Longest Ride', 'The Boy Next Door', 'Pan', 'Hot Pursuit', 'The DUFF', 'Woman in Gold', 'The Second Best Exotic Marigold Hotel', 'Unfriended', 'Entourage', 'Paper Towns', 'Chappie', 'Crimson Peak', 'A Walk in the Woods', 'Annie', 'Joy', 'Sinister 2', 'The Last Witch Hunter', 'No Escape', 'Ricki and the Flash', 'The Woman in Black 2: Angel of Death', 'Run All Night', 'Love the Coopers', 'Spotlight', 'The Lazarus Effect', 'Ex Machina', 'The Big Short', 'The Hunger Games: Mockingjay - Part 1', 'In the Heart of the Sea', 'The Gallows']\n"
     ]
    }
   ],
   "source": [
    "# fill dictionary with lists of the top 100 movies per year, display a sample year\n",
    "for year in obj:\n",
    "    top_100 = top_100df.loc[top_100df[\"Year\"] == year]\n",
    "    obj[year] = top_100[\"Release\"].tolist()\n",
    "print(obj[scrape_year])"
   ]
  },
  {
   "cell_type": "markdown",
   "metadata": {},
   "source": [
    "## Scrape Function Executed"
   ]
  },
  {
   "cell_type": "code",
   "execution_count": 8,
   "metadata": {},
   "outputs": [
    {
     "name": "stderr",
     "output_type": "stream",
     "text": [
      "[WDM] - Current google-chrome version is 88.0.4324\n",
      "[WDM] - Get LATEST driver version for 88.0.4324\n"
     ]
    },
    {
     "name": "stdout",
     "output_type": "stream",
     "text": [
      " \n"
     ]
    },
    {
     "name": "stderr",
     "output_type": "stream",
     "text": [
      "[WDM] - Get LATEST driver version for 88.0.4324\n",
      "[WDM] - Trying to download new driver from http://chromedriver.storage.googleapis.com/88.0.4324.96/chromedriver_win32.zip\n",
      "[WDM] - Driver has been saved in cache [C:\\Users\\stuhu\\.wdm\\drivers\\chromedriver\\win32\\88.0.4324.96]\n"
     ]
    }
   ],
   "source": [
    "# setup splinter\n",
    "executable_path = {'executable_path': ChromeDriverManager().install()}\n",
    "browser = Browser('chrome', **executable_path, headless=False)"
   ]
  },
  {
   "cell_type": "code",
   "execution_count": 9,
   "metadata": {},
   "outputs": [],
   "source": [
    "url = \"https://www.imcdb.org/\"\n",
    "browser.visit(url)"
   ]
  },
  {
   "cell_type": "code",
   "execution_count": 10,
   "metadata": {},
   "outputs": [],
   "source": [
    "def car_mov(titles):\n",
    "    movie_dict = {}\n",
    "    for title in titles:\n",
    "        movie_dict[title] = []\n",
    "    for title in titles:\n",
    "                \n",
    "        print(f\"Processing {title}...\")\n",
    "        \n",
    "        browser.find_by_css('input').fill(title)\n",
    "        time.sleep(1)\n",
    "        browser.find_by_value('Search').click()\n",
    "        time.sleep(5)\n",
    "    \n",
    "        html = browser.html\n",
    "        soup = bs(html, 'html.parser')\n",
    "    \n",
    "        results = soup.find_all('div', class_='ThumbnailBox')\n",
    "        if len(results) != 0:\n",
    "            good = 1\n",
    "        else:\n",
    "            good = 0\n",
    "            try:\n",
    "                browser.links.find_by_text(title).click()\n",
    "                time.sleep(5)\n",
    "            except:\n",
    "                print(\"No data for the movie.\")\n",
    "                good = 0\n",
    "                continue\n",
    "        \n",
    "        if good == 1:\n",
    "            good2 = 1\n",
    "        else:\n",
    "            html = browser.html\n",
    "            soup = bs(html, 'html.parser')\n",
    "            results = soup.find_all('div', class_='ThumbnailBox')\n",
    "            if len(results) != 0:\n",
    "                good2 = 1\n",
    "            else:\n",
    "                good2 = 0\n",
    "                print(\"Not good at all: no car data.\")\n",
    "                continue\n",
    "        \n",
    "        if good2 == 1:\n",
    "            print(\"Car data collected.\")\n",
    "            count = 0\n",
    "            for result in results:\n",
    "                try:\n",
    "                    x = result.find('span', class_='Stars')\n",
    "                    y = len(x)\n",
    "                    z = result.find('a')['href']\n",
    "                    info_string = result.text\n",
    "                    count += 1\n",
    "                    movie_dict[title].append([count, info_string, z, y])\n",
    "                except:\n",
    "                    y = 'Nan'\n",
    "                    z = result.find('a')['href']\n",
    "                    info_string = result.text\n",
    "                    count += 1\n",
    "                    movie_dict[title].append([count, info_string, z, y])\n",
    "        else:\n",
    "            pass\n",
    "    browser.quit()\n",
    "    print(\"Scraping completed.\")\n",
    "    return movie_dict"
   ]
  },
  {
   "cell_type": "code",
   "execution_count": 11,
   "metadata": {},
   "outputs": [
    {
     "name": "stdout",
     "output_type": "stream",
     "text": [
      "Processing Jurassic World...\n",
      "Car data collected.\n",
      "Processing Star Wars: Episode VII - The Force Awakens...\n",
      "No data for the movie.\n",
      "Processing Avengers: Age of Ultron...\n",
      "Car data collected.\n",
      "Processing Inside Out...\n",
      "Car data collected.\n",
      "Processing Furious 7...\n",
      "Car data collected.\n",
      "Processing American Sniper...\n",
      "Car data collected.\n",
      "Processing Minions...\n",
      "Car data collected.\n",
      "Processing The Hunger Games: Mockingjay - Part 2...\n",
      "Car data collected.\n",
      "Processing The Martian...\n",
      "Car data collected.\n",
      "Processing Cinderella...\n",
      "No data for the movie.\n",
      "Processing Spectre...\n",
      "Car data collected.\n",
      "Processing Mission: Impossible - Rogue Nation...\n",
      "Car data collected.\n",
      "Processing Pitch Perfect 2...\n",
      "Car data collected.\n",
      "Processing Ant-Man...\n",
      "Car data collected.\n",
      "Processing Home...\n",
      "No data for the movie.\n",
      "Processing Hotel Transylvania 2...\n",
      "Car data collected.\n",
      "Processing Fifty Shades of Grey...\n",
      "Car data collected.\n",
      "Processing The SpongeBob Movie: Sponge Out of Water...\n",
      "Car data collected.\n",
      "Processing Straight Outta Compton...\n",
      "Car data collected.\n",
      "Processing San Andreas...\n",
      "Car data collected.\n",
      "Processing Mad Max: Fury Road...\n",
      "Car data collected.\n",
      "Processing The Divergent Series: Insurgent...\n",
      "No data for the movie.\n",
      "Processing Kingsman: The Secret Service...\n",
      "Car data collected.\n",
      "Processing The Peanuts Movie...\n",
      "Car data collected.\n",
      "Processing Spy...\n",
      "Car data collected.\n",
      "Processing The Good Dinosaur...\n",
      "No data for the movie.\n",
      "Processing Trainwreck...\n",
      "Car data collected.\n",
      "Processing Creed...\n",
      "Car data collected.\n",
      "Processing Tomorrowland...\n",
      "Car data collected.\n",
      "Processing Get Hard...\n",
      "Car data collected.\n",
      "Processing Terminator Genisys...\n",
      "Car data collected.\n",
      "Processing Taken 3...\n",
      "Car data collected.\n",
      "Processing Maze Runner: The Scorch Trials...\n",
      "Car data collected.\n",
      "Processing Ted 2...\n",
      "Car data collected.\n",
      "Processing Goosebumps...\n",
      "Car data collected.\n",
      "Processing Pixels...\n",
      "Car data collected.\n",
      "Processing Paddington...\n",
      "Car data collected.\n",
      "Processing The Intern...\n",
      "Car data collected.\n",
      "Processing The Imitation Game...\n",
      "Car data collected.\n",
      "Processing Paul Blart: Mall Cop 2...\n",
      "Car data collected.\n",
      "Processing Bridge of Spies...\n",
      "Car data collected.\n",
      "Processing War Room...\n",
      "Car data collected.\n",
      "Processing Magic Mike XXL...\n",
      "Car data collected.\n",
      "Processing The Hobbit: The Battle of the Five Armies...\n",
      "No data for the movie.\n",
      "Processing The Visit...\n",
      "Car data collected.\n",
      "Processing Daddy's Home...\n",
      "Car data collected.\n",
      "Processing The Wedding Ringer...\n",
      "Car data collected.\n",
      "Processing Into the Woods...\n",
      "No data for the movie.\n",
      "Processing Black Mass...\n",
      "Car data collected.\n",
      "Processing Vacation...\n",
      "Car data collected.\n",
      "Processing The Perfect Guy...\n",
      "Car data collected.\n",
      "Processing Fantastic Four...\n",
      "Car data collected.\n",
      "Processing Alvin and the Chipmunks: The Road Chip...\n",
      "Car data collected.\n",
      "Processing Focus...\n",
      "Car data collected.\n",
      "Processing Unbroken...\n",
      "Car data collected.\n",
      "Processing Southpaw...\n",
      "Car data collected.\n",
      "Processing Insidious: Chapter 3...\n",
      "Car data collected.\n",
      "Processing Selma...\n",
      "Car data collected.\n",
      "Processing Sisters...\n",
      "Car data collected.\n",
      "Processing Poltergeist...\n",
      "Car data collected.\n",
      "Processing Jupiter Ascending...\n",
      "Car data collected.\n",
      "Processing Sicario...\n",
      "Car data collected.\n",
      "Processing The Man from U.N.C.L.E....\n",
      "Car data collected.\n",
      "Processing McFarland, USA...\n",
      "Car data collected.\n",
      "Processing Night at the Museum: Secret of the Tomb...\n",
      "Car data collected.\n",
      "Processing The Gift...\n",
      "Car data collected.\n",
      "Processing Everest...\n",
      "Car data collected.\n",
      "Processing The Night Before...\n",
      "Car data collected.\n",
      "Processing Max...\n",
      "Car data collected.\n",
      "Processing The Age of Adaline...\n",
      "Car data collected.\n",
      "Processing Krampus...\n",
      "Car data collected.\n",
      "Processing The Longest Ride...\n",
      "Car data collected.\n",
      "Processing The Boy Next Door...\n",
      "Car data collected.\n",
      "Processing Pan...\n",
      "No data for the movie.\n",
      "Processing Hot Pursuit...\n",
      "Car data collected.\n",
      "Processing The DUFF...\n",
      "Car data collected.\n",
      "Processing Woman in Gold...\n",
      "Car data collected.\n",
      "Processing The Second Best Exotic Marigold Hotel...\n",
      "Car data collected.\n",
      "Processing Unfriended...\n",
      "No data for the movie.\n",
      "Processing Entourage...\n",
      "Car data collected.\n",
      "Processing Paper Towns...\n",
      "Car data collected.\n",
      "Processing Chappie...\n",
      "Car data collected.\n",
      "Processing Crimson Peak...\n",
      "Car data collected.\n",
      "Processing A Walk in the Woods...\n",
      "Car data collected.\n",
      "Processing Annie...\n",
      "Car data collected.\n",
      "Processing Joy...\n",
      "Car data collected.\n",
      "Processing Sinister 2...\n",
      "Car data collected.\n",
      "Processing The Last Witch Hunter...\n",
      "Car data collected.\n",
      "Processing No Escape...\n",
      "Car data collected.\n",
      "Processing Ricki and the Flash...\n",
      "Car data collected.\n",
      "Processing The Woman in Black 2: Angel of Death...\n",
      "Car data collected.\n",
      "Processing Run All Night...\n",
      "Car data collected.\n",
      "Processing Love the Coopers...\n",
      "Car data collected.\n",
      "Processing Spotlight...\n",
      "Car data collected.\n",
      "Processing The Lazarus Effect...\n",
      "Car data collected.\n",
      "Processing Ex Machina...\n",
      "Car data collected.\n",
      "Processing The Big Short...\n",
      "Car data collected.\n",
      "Processing The Hunger Games: Mockingjay - Part 1...\n",
      "Car data collected.\n",
      "Processing In the Heart of the Sea...\n",
      "No data for the movie.\n",
      "Processing The Gallows...\n",
      "Car data collected.\n",
      "Scraping completed.\n"
     ]
    }
   ],
   "source": [
    "# create our dictionary of car data\n",
    "top_year = obj[scrape_year]\n",
    "top_yearcars = car_mov(top_year)"
   ]
  },
  {
   "cell_type": "code",
   "execution_count": null,
   "metadata": {},
   "outputs": [],
   "source": [
    "# verification\n",
    "print(top_yearcars)"
   ]
  },
  {
   "cell_type": "markdown",
   "metadata": {},
   "source": [
    "## Export/Import Scraped Data for backup"
   ]
  },
  {
   "cell_type": "code",
   "execution_count": 12,
   "metadata": {},
   "outputs": [
    {
     "name": "stdout",
     "output_type": "stream",
     "text": [
      "100\n"
     ]
    }
   ],
   "source": [
    "print(len(top_yearcars))"
   ]
  },
  {
   "cell_type": "code",
   "execution_count": 13,
   "metadata": {},
   "outputs": [],
   "source": [
    "# writing dictionary to text file\n",
    "try:\n",
    "    file_dict = open(f\"top_{scrape_year}cars.txt\", 'wt')\n",
    "    file_dict.write(str(top_yearcars))\n",
    "    file_dict.close()\n",
    "except: \n",
    "    print(\"Unable to write to file\")"
   ]
  },
  {
   "cell_type": "code",
   "execution_count": null,
   "metadata": {},
   "outputs": [],
   "source": [
    "# Unable to write a file? Try this instead, otherwise skip this\n",
    "file_dict = open(f\"top_{scrape_year}cars.txt\", 'wt', encoding=\"utf-8\")\n",
    "file_dict.write(str(top_yearcars))\n",
    "file_dict.close()"
   ]
  },
  {
   "cell_type": "code",
   "execution_count": 14,
   "metadata": {},
   "outputs": [],
   "source": [
    "import ast"
   ]
  },
  {
   "cell_type": "code",
   "execution_count": 15,
   "metadata": {},
   "outputs": [],
   "source": [
    "# read dictionary from text file back\n",
    "file = open(f\"top_{scrape_year}cars.txt\", \"r\")\n",
    "contents = file.read()\n",
    "data = ast.literal_eval(contents)\n",
    "file.close()"
   ]
  },
  {
   "cell_type": "markdown",
   "metadata": {},
   "source": [
    "## Scrape Missing Data Manually"
   ]
  },
  {
   "cell_type": "code",
   "execution_count": 16,
   "metadata": {},
   "outputs": [
    {
     "name": "stderr",
     "output_type": "stream",
     "text": [
      "[WDM] - Current google-chrome version is 88.0.4324\n",
      "[WDM] - Get LATEST driver version for 88.0.4324\n",
      "[WDM] - Get LATEST driver version for 88.0.4324\n"
     ]
    },
    {
     "name": "stdout",
     "output_type": "stream",
     "text": [
      " \n"
     ]
    },
    {
     "name": "stderr",
     "output_type": "stream",
     "text": [
      "[WDM] - Trying to download new driver from http://chromedriver.storage.googleapis.com/88.0.4324.96/chromedriver_win32.zip\n",
      "[WDM] - Driver has been saved in cache [C:\\Users\\stuhu\\.wdm\\drivers\\chromedriver\\win32\\88.0.4324.96]\n"
     ]
    }
   ],
   "source": [
    "# setup splinter\n",
    "executable_path = {'executable_path': ChromeDriverManager().install()}\n",
    "browser = Browser('chrome', **executable_path, headless=False)"
   ]
  },
  {
   "cell_type": "code",
   "execution_count": 17,
   "metadata": {},
   "outputs": [],
   "source": [
    "url = \"https://www.imcdb.org/\"\n",
    "browser.visit(url)"
   ]
  },
  {
   "cell_type": "markdown",
   "metadata": {},
   "source": [
    "### Restart Manual Scrape Here:"
   ]
  },
  {
   "cell_type": "code",
   "execution_count": 18,
   "metadata": {},
   "outputs": [],
   "source": [
    "# function to scrape data for a single film\n",
    "def cars_manual(movie):\n",
    "    print(f\"Processing {movie}...\")\n",
    "    missing = f\"{movie}\"\n",
    "    miss_dict = {}\n",
    "    miss_dict[missing] = []\n",
    "\n",
    "    html = browser.html\n",
    "    soup = bs(html, 'html.parser')\n",
    "    \n",
    "    results = soup.find_all('div', class_='ThumbnailBox')\n",
    "    if len(results) != 0:\n",
    "        good = 1\n",
    "    else:\n",
    "        good = 0\n",
    "        try:\n",
    "            browser.links.find_by_text(missing).click()\n",
    "            time.sleep(5)\n",
    "        except:\n",
    "            print(\"No data for the movie.\")\n",
    "            good = 0\n",
    "        \n",
    "    if good == 1:\n",
    "        good2 = 1\n",
    "    else:\n",
    "        html = browser.html\n",
    "        soup = bs(html, 'html.parser')\n",
    "        results = soup.find_all('div', class_='ThumbnailBox')\n",
    "        if len(results) != 0:\n",
    "            good2 = 1\n",
    "        else:\n",
    "            good2 = 0\n",
    "            print(\"Not good at all: no car data.\")\n",
    "\n",
    "    if good2 == 1:\n",
    "        print(\"Data collected.\")\n",
    "        count = 0\n",
    "        for result in results:\n",
    "            try:\n",
    "                x = result.find('span', class_='Stars')\n",
    "                y = len(x)\n",
    "                z = result.find('a')['href']\n",
    "                info_string = result.text\n",
    "                count += 1\n",
    "                miss_dict[missing].append([count, info_string, z, y])\n",
    "            except:\n",
    "                y = 'Nan'\n",
    "                z = result.find('a')['href']\n",
    "                info_string = result.text\n",
    "                count += 1\n",
    "                miss_dict[missing].append([count, info_string, z, y])\n",
    "    else:\n",
    "        pass\n",
    "    return miss_dict"
   ]
  },
  {
   "cell_type": "code",
   "execution_count": 19,
   "metadata": {},
   "outputs": [],
   "source": [
    "# function to delete a single film's car data from our dictionary\n",
    "def delete_data(movie):\n",
    "    # remove data if no substitute can be manually found\n",
    "    del top_yearcars[movie]"
   ]
  },
  {
   "cell_type": "code",
   "execution_count": 20,
   "metadata": {},
   "outputs": [
    {
     "name": "stdout",
     "output_type": "stream",
     "text": [
      "Do we want to update or delete data?: update\n",
      "Title of the movie (exact upper and lower cases):Inside Out\n",
      "Processing Inside Out...\n",
      "Data collected.\n",
      "First car: [1, 'Chevrolet C-10 ', 'vehicle_848908-Chevrolet-C-10.html', 1]\n",
      "Last car: [5, '1988 Yugo GV ', 'vehicle_848910-Yugo-GV-102-1988.html', 1]\n",
      "Do we still have a movie to update? (yes/no): yes\n",
      "Do we want to update or delete data?: update\n",
      "Title of the movie (exact upper and lower cases):Spectre\n",
      "Processing Spectre...\n",
      "Data collected.\n",
      "First car: [1, '2004 Alfa Romeo 166 ', 'vehicle_820776-Alfa-Romeo-166-936-2004.html', 1]\n",
      "Last car: [68, '2015 Yamaha Grizzly 700 ', 'vehicle_879472-Yamaha-Grizzly-700-2015.html', 2]\n",
      "Do we still have a movie to update? (yes/no): yes\n",
      "Do we want to update or delete data?: update\n",
      "Title of the movie (exact upper and lower cases):Home\n",
      "Processing Home...\n",
      "Data collected.\n",
      "First car: [1, 'Piaggio Vespa ', 'vehicle_815908-Piaggio-Vespa.html', 1]\n",
      "Last car: [5, 'Volkswagen Rabbit I [Typ 17] ', 'vehicle_815904-Volkswagen-Rabbit-Typ-17.html', 1]\n",
      "Do we still have a movie to update? (yes/no): yes\n",
      "Do we want to update or delete data?: update\n",
      "Title of the movie (exact upper and lower cases):The Divergent Series: Insurgent\n",
      "Processing The Divergent Series: Insurgent...\n",
      "Data collected.\n",
      "First car: [1, 'BAE Systems Caiman CMTV ', 'vehicle_764849-BAE-Systems-Caiman-CMTV.html', 4]\n",
      "Last car: [2, 'Case IH unknown ', 'vehicle_832944-Case-IH.html', 1]\n",
      "Do we still have a movie to update? (yes/no): yes\n",
      "Do we want to update or delete data?: update\n",
      "Title of the movie (exact upper and lower cases):Spy\n",
      "Processing Spy...\n",
      "Data collected.\n",
      "First car: [1, '1999 Alfa Romeo 166 ', 'vehicle_845712-Alfa-Romeo-166-936-1999.html', 1]\n",
      "Last car: [71, '1973 Żuk A11 M ', 'vehicle_865744-Zuk-A11-M-1973.html', 1]\n",
      "Do we still have a movie to update? (yes/no): yes\n",
      "Do we want to update or delete data?: update\n",
      "Title of the movie (exact upper and lower cases):Goosebumps\n",
      "Processing Goosebumps...\n",
      "Data collected.\n",
      "First car: [1, 'AM General FJ-8 ', 'vehicle_876450-AM-General-FJ-8.html', 1]\n",
      "Last car: [38, '2011 Volkswagen Jetta SportWagen A6 [Typ 1K] ', 'vehicle_828031-Volkswagen-Jetta-SportWagen-Typ-1K-2011.html', 3]\n",
      "Do we still have a movie to update? (yes/no): yes\n",
      "Do we want to update or delete data?: update\n",
      "Title of the movie (exact upper and lower cases):Vacation\n",
      "Processing Vacation...\n",
      "Data collected.\n",
      "First car: [1, '2005 Chevrolet Cobalt ', 'vehicle_854042-Chevrolet-Cobalt-GMX001-2005.html', 1]\n",
      "Last car: [31, '2001 Volvo V70 ', 'vehicle_823783-Volvo-V70-2001.html', 2]\n",
      "Do we still have a movie to update? (yes/no): yes\n",
      "Do we want to update or delete data?: update\n",
      "Title of the movie (exact upper and lower cases):Fantastic Four\n",
      "Processing Fantastic Four...\n",
      "Data collected.\n",
      "First car: [1, 'AM General HMMWV M1044 ', 'vehicle_829945-AM-General-HMMWV-M1044.html', 'Nan']\n",
      "Last car: [33, 'Yale unknown ', 'vehicle_857890-Yale.html', 1]\n",
      "Do we still have a movie to update? (yes/no): yes\n",
      "Do we want to update or delete data?: update\n",
      "Title of the movie (exact upper and lower cases):Focus\n",
      "Processing Focus...\n",
      "Data collected.\n",
      "First car: [1, '1988 Alfa Romeo 164 ', 'vehicle_815953-Alfa-Romeo-164-1988.html', 1]\n",
      "Last car: [35, 'Volkswagen Gol Country IV [Typ AB9] ', 'vehicle_862326-Volkswagen-Gol-Country-Typ-AB9.html', 1]\n",
      "Do we still have a movie to update? (yes/no): yes\n",
      "Do we want to update or delete data?: update\n",
      "Title of the movie (exact upper and lower cases):Sisters\n",
      "Processing Sisters...\n",
      "Data collected.\n",
      "First car: [1, '2010 BMW X5 [E70] ', 'vehicle_918468-BMW-X5-E70-2010.html', 2]\n",
      "Last car: [11, '2012 Toyota Prius III ', 'vehicle_918475-Toyota-Prius-ZVW30-2012.html', 2]\n",
      "Do we still have a movie to update? (yes/no): yes\n",
      "Do we want to update or delete data?: update\n",
      "Title of the movie (exact upper and lower cases):Poltergeist\n",
      "Processing Poltergeist...\n",
      "Data collected.\n",
      "First car: [1, '2012 BMW 328i [F30] ', 'vehicle_827460-BMW-328i-F30-2012.html', 1]\n",
      "Last car: [7, 'MINI Cooper ', 'vehicle_827453-MINI-Cooper-R50.html', 2]\n",
      "Do we still have a movie to update? (yes/no): yes\n",
      "Do we want to update or delete data?: update\n",
      "Title of the movie (exact upper and lower cases):The Man from U.N.C.L.E.\n",
      "Processing The Man from U.N.C.L.E....\n",
      "Data collected.\n",
      "First car: [1, '1961 Alfa Romeo 2000 Sprint ', 'vehicle_864307-Alfa-Romeo-2000-Sprint-10205-1961.html', 1]\n",
      "Last car: [51, '1963 ZAZ 965 A Zaporozhets ', 'vehicle_828844-ZAZ-965-A-Zaporozhets-1963.html', 1]\n",
      "Do we still have a movie to update? (yes/no): yes\n",
      "Do we want to update or delete data?: update\n",
      "Title of the movie (exact upper and lower cases):The Gift\n",
      "Processing The Gift...\n",
      "Data collected.\n",
      "First car: [1, '2004 Acura TL ', 'vehicle_1341806-Acura-TL-UA6-2004.html', 1]\n",
      "Last car: [23, '2014 Volvo XC60 ', 'vehicle_829964-Volvo-XC60-2014.html', 3]\n",
      "Do we still have a movie to update? (yes/no): yes\n",
      "Do we want to update or delete data?: update\n",
      "Title of the movie (exact upper and lower cases):The Night Before\n",
      "Processing The Night Before...\n",
      "Data collected.\n",
      "First car: [1, '1991 Acura Legend ', 'vehicle_892537-Acura-Legend-KA7-1991.html', 3]\n",
      "Last car: [9, '2012 Toyota Camry Hybrid ', 'vehicle_892542-Toyota-Camry-Hybrid-AVV50-2012.html', 1]\n",
      "Do we still have a movie to update? (yes/no): yes\n",
      "Do we want to update or delete data?: update\n",
      "Title of the movie (exact upper and lower cases):Max\n",
      "Processing Max...\n",
      "Data collected.\n",
      "First car: [1, 'AM General HMMWV ', 'vehicle_853417-AM-General-HMMWV.html', 2]\n",
      "Last car: [31, 'Yamaha YDS 3C 250 ', 'vehicle_853431-Yamaha-YDS-3C-250.html', 1]\n",
      "Do we still have a movie to update? (yes/no): yes\n",
      "Do we want to update or delete data?: update\n",
      "Title of the movie (exact upper and lower cases):Hot Pursuit\n",
      "Processing Hot Pursuit...\n",
      "Data collected.\n",
      "First car: [1, '1966 Cadillac DeVille Convertible ', 'vehicle_832192-Cadillac-DeVille-Convertible-68367F-1966.html', 3]\n",
      "Last car: [34, 'unknown ', 'vehicle_832189.html', 1]\n",
      "Do we still have a movie to update? (yes/no): yes\n",
      "Do we want to update or delete data?: update\n",
      "Title of the movie (exact upper and lower cases):Entourage\n",
      "Processing Entourage...\n",
      "Data collected.\n",
      "First car: [1, '2010 Aston Martin Rapide ', 'vehicle_847075-Aston-Martin-Rapide-2010.html', 1]\n",
      "Last car: [54, '2013 Volkswagen Touareg II [Typ 7P5] ', 'vehicle_815673-Volkswagen-Touareg-Typ-7P5-2013.html', 1]\n",
      "Do we still have a movie to update? (yes/no): yes\n",
      "Do we want to update or delete data?: update\n",
      "Title of the movie (exact upper and lower cases):Annie\n",
      "Processing Annie...\n",
      "Data collected.\n",
      "First car: [1, '2008 BMW 5 [E60] ', 'vehicle_794171-BMW-5-E60-2008.html', 1]\n",
      "Last car: [42, '2013 Toyota Yaris ', 'vehicle_794197-Toyota-Yaris-NCP131-2013.html', 1]\n",
      "Do we still have a movie to update? (yes/no): yes\n",
      "Do we want to update or delete data?: update\n",
      "Title of the movie (exact upper and lower cases):No Escape\n",
      "Processing No Escape...\n",
      "Data collected.\n",
      "First car: [1, 'AM General M-35 ', 'vehicle_865082-AM-General-M-35-G742.html', 2]\n",
      "Last car: [23, 'Yamaha RSX 100 ', 'vehicle_865095-Yamaha-RSX-100.html', 1]\n",
      "Do we still have a movie to update? (yes/no): yes\n",
      "Do we want to update or delete data?: delete\n",
      "Title of the movie (exact upper and lower cases):Ex Machina\n",
      "Do we still have a movie to update? (yes/no): no\n",
      "Manual updates completed.\n"
     ]
    }
   ],
   "source": [
    "# while loop to manually update or delete films that were not scraped properly\n",
    "answer = \"yes\"\n",
    "while answer == \"yes\":\n",
    "    decision = input(\"Do we want to update or delete data?: \").lower()\n",
    "    if decision == \"update\":\n",
    "        title = input(\"Title of the movie (exact upper and lower cases):\")\n",
    "        new_dict = cars_manual(title)\n",
    "        # use update method to update value of errant key/title data\n",
    "        top_yearcars.update(new_dict)\n",
    "        # verification\n",
    "        print(f\"First car: {top_yearcars[title][0]}\")\n",
    "        print(f\"Last car: {top_yearcars[title][-1]}\")\n",
    "        # outgoing exit option\n",
    "        answer = input(\"Do we still have a movie to update? (yes/no): \").lower()\n",
    "    elif decision == \"delete\":\n",
    "        title = input(\"Title of the movie (exact upper and lower cases):\")\n",
    "        delete_data(title)\n",
    "        answer = input(\"Do we still have a movie to update? (yes/no): \").lower()\n",
    "    else:\n",
    "        answer = \"no\"\n",
    "print(\"Manual updates completed.\")"
   ]
  },
  {
   "cell_type": "code",
   "execution_count": 21,
   "metadata": {},
   "outputs": [],
   "source": [
    "browser.quit()"
   ]
  },
  {
   "cell_type": "markdown",
   "metadata": {},
   "source": [
    "## Export Data as CSV"
   ]
  },
  {
   "cell_type": "code",
   "execution_count": null,
   "metadata": {},
   "outputs": [],
   "source": [
    "print(top_yearcars)"
   ]
  },
  {
   "cell_type": "code",
   "execution_count": 22,
   "metadata": {},
   "outputs": [
    {
     "name": "stdout",
     "output_type": "stream",
     "text": [
      "No cars for the movie, Ex Machina.\n"
     ]
    }
   ],
   "source": [
    "# create dataframe of data for each vehicle, with movie and movie year included\n",
    "title = []\n",
    "year = []\n",
    "auto = []\n",
    "link = []\n",
    "stars = []\n",
    "for movie in top_year:\n",
    "    try:\n",
    "        cars = top_yearcars[movie]\n",
    "        for car in cars:\n",
    "            title.append(movie)\n",
    "            year.append(scrape_year)\n",
    "            auto.append(car[1])\n",
    "            link.append(car[2])\n",
    "            stars.append(car[3])\n",
    "    except:\n",
    "        print(f\"No cars for the movie, {movie}.\")"
   ]
  },
  {
   "cell_type": "code",
   "execution_count": 23,
   "metadata": {},
   "outputs": [],
   "source": [
    "top_year_df = pd.DataFrame({\"Release\": title, \"Year\": year, \"Car\": auto, \"url\": link, \"Stars\": stars})"
   ]
  },
  {
   "cell_type": "code",
   "execution_count": 24,
   "metadata": {},
   "outputs": [
    {
     "data": {
      "text/html": [
       "<div>\n",
       "<style scoped>\n",
       "    .dataframe tbody tr th:only-of-type {\n",
       "        vertical-align: middle;\n",
       "    }\n",
       "\n",
       "    .dataframe tbody tr th {\n",
       "        vertical-align: top;\n",
       "    }\n",
       "\n",
       "    .dataframe thead th {\n",
       "        text-align: right;\n",
       "    }\n",
       "</style>\n",
       "<table border=\"1\" class=\"dataframe\">\n",
       "  <thead>\n",
       "    <tr style=\"text-align: right;\">\n",
       "      <th></th>\n",
       "      <th>Release</th>\n",
       "      <th>Year</th>\n",
       "      <th>Car</th>\n",
       "      <th>url</th>\n",
       "      <th>Stars</th>\n",
       "    </tr>\n",
       "  </thead>\n",
       "  <tbody>\n",
       "    <tr>\n",
       "      <th>0</th>\n",
       "      <td>Jurassic World</td>\n",
       "      <td>2015</td>\n",
       "      <td>AM General HMMWV M1025</td>\n",
       "      <td>vehicle_824044-AM-General-HMMWV-M1025.html</td>\n",
       "      <td>1</td>\n",
       "    </tr>\n",
       "    <tr>\n",
       "      <th>1</th>\n",
       "      <td>Jurassic World</td>\n",
       "      <td>2015</td>\n",
       "      <td>Baja Motorsports MB200</td>\n",
       "      <td>vehicle_805726-Baja-Motorsports-MB200.html</td>\n",
       "      <td>1</td>\n",
       "    </tr>\n",
       "    <tr>\n",
       "      <th>2</th>\n",
       "      <td>Jurassic World</td>\n",
       "      <td>2015</td>\n",
       "      <td>1997 Chevrolet C-2500</td>\n",
       "      <td>vehicle_824041-Chevrolet-C-2500-1997.html</td>\n",
       "      <td>2</td>\n",
       "    </tr>\n",
       "    <tr>\n",
       "      <th>3</th>\n",
       "      <td>Jurassic World</td>\n",
       "      <td>2015</td>\n",
       "      <td>Hyster</td>\n",
       "      <td>vehicle_1154866-Hyster.html</td>\n",
       "      <td>1</td>\n",
       "    </tr>\n",
       "    <tr>\n",
       "      <th>4</th>\n",
       "      <td>Jurassic World</td>\n",
       "      <td>2015</td>\n",
       "      <td>1992 Jeep Wrangler</td>\n",
       "      <td>vehicle_820203-Jeep-Wrangler-YJ-1992.html</td>\n",
       "      <td>3</td>\n",
       "    </tr>\n",
       "    <tr>\n",
       "      <th>...</th>\n",
       "      <td>...</td>\n",
       "      <td>...</td>\n",
       "      <td>...</td>\n",
       "      <td>...</td>\n",
       "      <td>...</td>\n",
       "    </tr>\n",
       "    <tr>\n",
       "      <th>2673</th>\n",
       "      <td>The Gallows</td>\n",
       "      <td>2015</td>\n",
       "      <td>1992 Honda Civic</td>\n",
       "      <td>vehicle_853343-Honda-Civic-EG8-1992.html</td>\n",
       "      <td>1</td>\n",
       "    </tr>\n",
       "    <tr>\n",
       "      <th>2674</th>\n",
       "      <td>The Gallows</td>\n",
       "      <td>2015</td>\n",
       "      <td>1996 Honda Civic</td>\n",
       "      <td>vehicle_853344-Honda-Civic-EJ-1996.html</td>\n",
       "      <td>2</td>\n",
       "    </tr>\n",
       "    <tr>\n",
       "      <th>2675</th>\n",
       "      <td>The Gallows</td>\n",
       "      <td>2015</td>\n",
       "      <td>Mazda MX-5 Miata</td>\n",
       "      <td>vehicle_853346-Mazda-MX-5-Miata-NA.html</td>\n",
       "      <td>1</td>\n",
       "    </tr>\n",
       "    <tr>\n",
       "      <th>2676</th>\n",
       "      <td>The Gallows</td>\n",
       "      <td>2015</td>\n",
       "      <td>2007 Nissan Altima</td>\n",
       "      <td>vehicle_853351-Nissan-Altima-L32-2007.html</td>\n",
       "      <td>1</td>\n",
       "    </tr>\n",
       "    <tr>\n",
       "      <th>2677</th>\n",
       "      <td>The Gallows</td>\n",
       "      <td>2015</td>\n",
       "      <td>2013 Ram 1500</td>\n",
       "      <td>vehicle_853348-Ram-1500-2013.html</td>\n",
       "      <td>1</td>\n",
       "    </tr>\n",
       "  </tbody>\n",
       "</table>\n",
       "<p>2678 rows × 5 columns</p>\n",
       "</div>"
      ],
      "text/plain": [
       "             Release  Year                      Car  \\\n",
       "0     Jurassic World  2015  AM General HMMWV M1025    \n",
       "1     Jurassic World  2015  Baja Motorsports MB200    \n",
       "2     Jurassic World  2015   1997 Chevrolet C-2500    \n",
       "3     Jurassic World  2015                  Hyster    \n",
       "4     Jurassic World  2015      1992 Jeep Wrangler    \n",
       "...              ...   ...                      ...   \n",
       "2673     The Gallows  2015        1992 Honda Civic    \n",
       "2674     The Gallows  2015        1996 Honda Civic    \n",
       "2675     The Gallows  2015        Mazda MX-5 Miata    \n",
       "2676     The Gallows  2015      2007 Nissan Altima    \n",
       "2677     The Gallows  2015           2013 Ram 1500    \n",
       "\n",
       "                                             url Stars  \n",
       "0     vehicle_824044-AM-General-HMMWV-M1025.html     1  \n",
       "1     vehicle_805726-Baja-Motorsports-MB200.html     1  \n",
       "2      vehicle_824041-Chevrolet-C-2500-1997.html     2  \n",
       "3                    vehicle_1154866-Hyster.html     1  \n",
       "4      vehicle_820203-Jeep-Wrangler-YJ-1992.html     3  \n",
       "...                                          ...   ...  \n",
       "2673    vehicle_853343-Honda-Civic-EG8-1992.html     1  \n",
       "2674     vehicle_853344-Honda-Civic-EJ-1996.html     2  \n",
       "2675     vehicle_853346-Mazda-MX-5-Miata-NA.html     1  \n",
       "2676  vehicle_853351-Nissan-Altima-L32-2007.html     1  \n",
       "2677           vehicle_853348-Ram-1500-2013.html     1  \n",
       "\n",
       "[2678 rows x 5 columns]"
      ]
     },
     "execution_count": 24,
     "metadata": {},
     "output_type": "execute_result"
    }
   ],
   "source": [
    "top_year_df"
   ]
  },
  {
   "cell_type": "code",
   "execution_count": 25,
   "metadata": {},
   "outputs": [],
   "source": [
    "#export as csv for use elsewhere\n",
    "top_year_df.to_csv(f\"output_data/{d_today}_{scrape_year}Cars.csv\", index=False, header=True)"
   ]
  },
  {
   "cell_type": "code",
   "execution_count": null,
   "metadata": {},
   "outputs": [],
   "source": []
  }
 ],
 "metadata": {
  "kernelspec": {
   "display_name": "Python 3",
   "language": "python",
   "name": "python3"
  },
  "language_info": {
   "codemirror_mode": {
    "name": "ipython",
    "version": 3
   },
   "file_extension": ".py",
   "mimetype": "text/x-python",
   "name": "python",
   "nbconvert_exporter": "python",
   "pygments_lexer": "ipython3",
   "version": "3.8.3"
  }
 },
 "nbformat": 4,
 "nbformat_minor": 4
}
