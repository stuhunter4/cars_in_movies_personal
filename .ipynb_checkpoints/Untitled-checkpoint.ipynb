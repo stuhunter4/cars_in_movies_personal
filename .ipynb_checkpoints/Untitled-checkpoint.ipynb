{
 "cells": [
  {
   "cell_type": "code",
   "execution_count": 1,
   "metadata": {},
   "outputs": [],
   "source": [
    "# dependencies\n",
    "import pandas as pd\n",
    "import time\n",
    "from datetime import date\n",
    "from bs4 import BeautifulSoup as bs\n",
    "from splinter import Browser\n",
    "from webdriver_manager.chrome import ChromeDriverManager"
   ]
  },
  {
   "cell_type": "code",
   "execution_count": 2,
   "metadata": {},
   "outputs": [],
   "source": [
    "# export dataframe of results with today's date\n",
    "today = date.today()\n",
    "d_today = today.strftime(\"%Y_%m_%d\")"
   ]
  },
  {
   "cell_type": "code",
   "execution_count": 3,
   "metadata": {},
   "outputs": [
    {
     "name": "stderr",
     "output_type": "stream",
     "text": [
      "[WDM] - Current google-chrome version is 88.0.4324\n",
      "[WDM] - Get LATEST driver version for 88.0.4324\n",
      "[WDM] - Driver [C:\\Users\\stuhu\\.wdm\\drivers\\chromedriver\\win32\\88.0.4324.96\\chromedriver.exe] found in cache\n"
     ]
    },
    {
     "name": "stdout",
     "output_type": "stream",
     "text": [
      " \n"
     ]
    }
   ],
   "source": [
    "# setup splinter\n",
    "executable_path = {'executable_path': ChromeDriverManager().install()}\n",
    "browser = Browser('chrome', **executable_path, headless=False)"
   ]
  },
  {
   "cell_type": "code",
   "execution_count": 38,
   "metadata": {},
   "outputs": [],
   "source": [
    "# visit https://www.imcdb.org/ website url\n",
    "url = \"https://www.imcdb.org/\"\n",
    "browser.visit(url)"
   ]
  },
  {
   "cell_type": "code",
   "execution_count": 7,
   "metadata": {},
   "outputs": [],
   "source": [
    "browser.find_by_css('input').fill('Inception')"
   ]
  },
  {
   "cell_type": "code",
   "execution_count": 19,
   "metadata": {},
   "outputs": [],
   "source": [
    "browser.find_by_value('Search').click()"
   ]
  },
  {
   "cell_type": "code",
   "execution_count": 20,
   "metadata": {},
   "outputs": [],
   "source": [
    "# create HTML object\n",
    "html = browser.html\n",
    "# parse HTML with BeautifulSoup\n",
    "soup = bs(html, 'html.parser')"
   ]
  },
  {
   "cell_type": "code",
   "execution_count": 21,
   "metadata": {},
   "outputs": [],
   "source": [
    "# attempt to find elements that contain car data\n",
    "results = soup.find_all('div', class_='ThumbnailBox')\n",
    "if len(results) != 0:\n",
    "    print(\"everything good\")\n",
    "else:\n",
    "    print(\"extra step taken\")\n",
    "    browser.links.find_by_text('Inception').click()"
   ]
  },
  {
   "cell_type": "code",
   "execution_count": 22,
   "metadata": {},
   "outputs": [
    {
     "data": {
      "text/plain": [
       "67"
      ]
     },
     "execution_count": 22,
     "metadata": {},
     "output_type": "execute_result"
    }
   ],
   "source": [
    "len(results)"
   ]
  },
  {
   "cell_type": "code",
   "execution_count": 23,
   "metadata": {},
   "outputs": [
    {
     "data": {
      "text/plain": [
       "[<div class=\"ThumbnailBox\"><a class=\"Thumbnail\" href=\"vehicle_870785-Acura-CL-YA-1998.html\"><img alt=\"870785\" height=\"100\" src=\"t870785.jpg\" title=\"Click for details and comments about this vehicle\" width=\"235\"/></a>1998 <a href=\"vehicles_make-Acura.html\">Acura</a> <a href=\"vehicles_make-Acura_model-CL.html\">CL</a> <span class=\"Stars\"><img alt=\"[*]\" height=\"16\" src=\"/res/star.png\" width=\"15\"/></span></div>,\n",
       " <div class=\"ThumbnailBox\"><a class=\"Thumbnail\" href=\"vehicle_1299489-BMW-3-E30-1984.html\"><img alt=\"1299489\" height=\"100\" src=\"t001299489.jpg\" title=\"Click for details and comments about this vehicle\" width=\"235\"/></a>1984 <a href=\"vehicles_make-BMW.html\">BMW</a> <a href=\"vehicles_make-BMW_model-3.html\">3</a> [<a href=\"vehicles_make-BMW_model-E30.html\">E30</a>] <span class=\"Stars\"><img alt=\"[*]\" height=\"16\" src=\"/res/star.png\" width=\"15\"/></span></div>,\n",
       " <div class=\"ThumbnailBox\"><a class=\"Thumbnail\" href=\"vehicle_355633-BMW-3-E30-1990.html\"><img alt=\"355633\" height=\"100\" src=\"t355633.jpg\" title=\"Click for details and comments about this vehicle\" width=\"235\"/></a>1990 <a href=\"vehicles_make-BMW.html\">BMW</a> <a href=\"vehicles_make-BMW_model-3.html\">3</a> [<a href=\"vehicles_make-BMW_model-E30.html\">E30</a>] <span class=\"Stars\"><img alt=\"[*]\" height=\"16\" src=\"/res/star.png\" width=\"15\"/></span></div>,\n",
       " <div class=\"ThumbnailBox\"><a class=\"Thumbnail\" href=\"vehicle_320935-BMW-7-E38-1999.html\"><img alt=\"320935\" height=\"100\" src=\"t320935.jpg\" title=\"Click for details and comments about this vehicle\" width=\"235\"/></a>1999 <a href=\"vehicles_make-BMW.html\">BMW</a> <a href=\"vehicles_make-BMW_model-7.html\">7</a> [<a href=\"vehicles_make-BMW_model-E38.html\">E38</a>] <span class=\"Stars\"><img alt=\"[*]\" height=\"16\" src=\"/res/star.png\" width=\"15\"/><img alt=\"[*]\" height=\"16\" src=\"/res/star.png\" width=\"15\"/></span></div>,\n",
       " <div class=\"ThumbnailBox\"><a class=\"Thumbnail\" href=\"vehicle_355662-Buick-LeSabre-1992.html\"><img alt=\"355662\" height=\"100\" src=\"t355662.jpg\" title=\"Click for details and comments about this vehicle\" width=\"235\"/></a>1992 <a href=\"vehicles_make-Buick.html\">Buick</a> <a href=\"vehicles_make-Buick_model-LeSabre.html\">LeSabre</a> <span class=\"Stars\"><img alt=\"[*]\" height=\"16\" src=\"/res/star.png\" width=\"15\"/></span></div>,\n",
       " <div class=\"ThumbnailBox\"><a class=\"Thumbnail\" href=\"vehicle_355638-Buick-LeSabre-GMX220-2000.html\"><img alt=\"355638\" height=\"100\" src=\"t355638.jpg\" title=\"Click for details and comments about this vehicle\" width=\"235\"/></a>2000 <a href=\"vehicles_make-Buick.html\">Buick</a> <a href=\"vehicles_make-Buick_model-LeSabre.html\">LeSabre</a> <span class=\"Stars\"><img alt=\"[*]\" height=\"16\" src=\"/res/star.png\" width=\"15\"/></span></div>,\n",
       " <div class=\"ThumbnailBox\"><a class=\"Thumbnail\" href=\"vehicle_355652-Cadillac-DeVille-1997.html\"><img alt=\"355652\" height=\"100\" src=\"t355652.jpg\" title=\"Click for details and comments about this vehicle\" width=\"235\"/></a>1997 <a href=\"vehicles_make-Cadillac.html\">Cadillac</a> <a href=\"vehicles_make-Cadillac_model-DeVille.html\">DeVille</a> <span class=\"Stars\"><img alt=\"[*]\" height=\"16\" src=\"/res/star.png\" width=\"15\"/></span></div>,\n",
       " <div class=\"ThumbnailBox\"><a class=\"Thumbnail\" href=\"vehicle_355650-Chrysler-New-Yorker-1983.html\"><img alt=\"355650\" height=\"100\" src=\"t355650.jpg\" title=\"Click for details and comments about this vehicle\" width=\"235\"/></a>1983 <a href=\"vehicles_make-Chrysler.html\">Chrysler</a> <a href=\"vehicles_make-Chrysler_model-New.html\">New</a> <a href=\"vehicles_make-Chrysler_model-New+Yorker.html\">Yorker</a> <span class=\"Stars\"><img alt=\"[*]\" height=\"16\" src=\"/res/star.png\" width=\"15\"/></span></div>,\n",
       " <div class=\"ThumbnailBox\"><a class=\"Thumbnail\" href=\"vehicle_355614-Citroen-C3-2006.html\"><img alt=\"355614\" height=\"100\" src=\"t355614.jpg\" title=\"Click for details and comments about this vehicle\" width=\"235\"/></a>2006 <a href=\"vehicles_make-Citro%EBn.html\">Citroën</a> <a href=\"vehicles_make-Citro%EBn_model-C3.html\">C3</a> <span class=\"Stars\"><img alt=\"[*]\" height=\"16\" src=\"/res/star.png\" width=\"15\"/></span></div>,\n",
       " <div class=\"ThumbnailBox\"><a class=\"Thumbnail\" href=\"vehicle_1203998-Citroen-C4-2005.html\"><img alt=\"1203998\" height=\"100\" src=\"t001203998.jpg\" title=\"Click for details and comments about this vehicle\" width=\"235\"/></a>2005 <a href=\"vehicles_make-Citro%EBn.html\">Citroën</a> <a href=\"vehicles_make-Citro%EBn_model-C4.html\">C4</a> <span class=\"Stars\"><img alt=\"[*]\" height=\"16\" src=\"/res/star.png\" width=\"15\"/></span></div>,\n",
       " <div class=\"ThumbnailBox\"><a class=\"Thumbnail\" href=\"vehicle_355620-Citroen-Xantia-1998.html\"><img alt=\"355620\" height=\"100\" src=\"t355620.jpg\" title=\"Click for details and comments about this vehicle\" width=\"235\"/></a>1998 <a href=\"vehicles_make-Citro%EBn.html\">Citroën</a> <a href=\"vehicles_make-Citro%EBn_model-Xantia.html\">Xantia</a> <span class=\"Stars\"><img alt=\"[*]\" height=\"16\" src=\"/res/star.png\" width=\"15\"/></span></div>,\n",
       " <div class=\"ThumbnailBox\"><a class=\"Thumbnail\" href=\"vehicle_323949-Daihatsu-Hijet-S80.html\"><img alt=\"323949\" height=\"100\" src=\"t323949.jpg\" title=\"Click for details and comments about this vehicle\" width=\"235\"/></a><a href=\"vehicles_make-Daihatsu.html\">Daihatsu</a> <a href=\"vehicles_make-Daihatsu_model-Hijet.html\">Hijet</a> <span class=\"Stars\"><img alt=\"[*]\" height=\"16\" src=\"/res/star.png\" width=\"15\"/><img alt=\"[*]\" height=\"16\" src=\"/res/star.png\" width=\"15\"/></span></div>,\n",
       " <div class=\"ThumbnailBox\"><a class=\"Thumbnail\" href=\"vehicle_310267-Ducati-Streetfighter.html\"><img alt=\"310267\" height=\"100\" src=\"t310267.jpg\" title=\"Click for details and comments about this vehicle\" width=\"235\"/></a><a href=\"vehicles_make-Ducati.html\">Ducati</a> <a href=\"vehicles_make-Ducati_model-Streetfighter.html\">Streetfighter</a> <span class=\"Stars\"><img alt=\"[*]\" height=\"16\" src=\"/res/star.png\" width=\"15\"/><img alt=\"[*]\" height=\"16\" src=\"/res/star.png\" width=\"15\"/></span></div>,\n",
       " <div class=\"ThumbnailBox\"><a class=\"Thumbnail\" href=\"vehicle_355623-Fiat-Ducato-2002.html\"><img alt=\"355623\" height=\"100\" src=\"t355623.jpg\" title=\"Click for details and comments about this vehicle\" width=\"235\"/></a>2002 <a href=\"vehicles_make-Fiat.html\">Fiat</a> <a href=\"vehicles_make-Fiat_model-Ducato.html\">Ducato</a> <span class=\"Stars\"><img alt=\"[*]\" height=\"16\" src=\"/res/star.png\" width=\"15\"/></span></div>,\n",
       " <div class=\"ThumbnailBox\"><a class=\"Thumbnail\" href=\"vehicle_355612-Fiat-Grande-Punto-199-2006.html\"><img alt=\"355612\" height=\"100\" src=\"t355612.jpg\" title=\"Click for details and comments about this vehicle\" width=\"235\"/></a>2006 <a href=\"vehicles_make-Fiat.html\">Fiat</a> <a href=\"vehicles_make-Fiat_model-Grande.html\">Grande</a> <a href=\"vehicles_make-Fiat_model-Grande+Punto.html\">Punto</a> <span class=\"Stars\"><img alt=\"[*]\" height=\"16\" src=\"/res/star.png\" width=\"15\"/></span></div>,\n",
       " <div class=\"ThumbnailBox\"><a class=\"Thumbnail\" href=\"vehicle_310270-Ford-Crown-Victoria-2001.html\"><img alt=\"310270\" height=\"100\" src=\"t310270.jpg\" title=\"Click for details and comments about this vehicle\" width=\"235\"/></a>2001 <a href=\"vehicles_make-Ford.html\">Ford</a> <a href=\"vehicles_make-Ford_model-Crown.html\">Crown</a> <a href=\"vehicles_make-Ford_model-Crown+Victoria.html\">Victoria</a> <span class=\"Stars\"><img alt=\"[*]\" height=\"16\" src=\"/res/star.png\" width=\"15\"/><img alt=\"[*]\" height=\"16\" src=\"/res/star.png\" width=\"15\"/><img alt=\"[*]\" height=\"16\" src=\"/res/star.png\" width=\"15\"/></span></div>,\n",
       " <div class=\"ThumbnailBox\"><a class=\"Thumbnail\" href=\"vehicle_319274-Ford-E-350-2003.html\"><img alt=\"319274\" height=\"100\" src=\"t319274.jpg\" title=\"Click for details and comments about this vehicle\" width=\"235\"/></a>2003 <a href=\"vehicles_make-Ford.html\">Ford</a> <a href=\"vehicles_make-Ford_model-E.html\">E</a>-<a href=\"vehicles_make-Ford_model-E-350.html\">350</a> <span class=\"Stars\"><img alt=\"[*]\" height=\"16\" src=\"/res/star.png\" width=\"15\"/><img alt=\"[*]\" height=\"16\" src=\"/res/star.png\" width=\"15\"/><img alt=\"[*]\" height=\"16\" src=\"/res/star.png\" width=\"15\"/><img alt=\"[*]\" height=\"16\" src=\"/res/star.png\" width=\"15\"/></span></div>,\n",
       " <div class=\"ThumbnailBox\"><a class=\"Thumbnail\" href=\"vehicle_1203999-Ford-Fusion-2002.html\"><img alt=\"1203999\" height=\"100\" src=\"t001203999.jpg\" title=\"Click for details and comments about this vehicle\" width=\"235\"/></a>2002 <a href=\"vehicles_make-Ford.html\">Ford</a> <a href=\"vehicles_make-Ford_model-Fusion.html\">Fusion</a> <span class=\"Stars\"><img alt=\"[*]\" height=\"16\" src=\"/res/star.png\" width=\"15\"/></span></div>,\n",
       " <div class=\"ThumbnailBox\"><a class=\"Thumbnail\" href=\"vehicle_355648-Ford-Taurus-DN101-1998.html\"><img alt=\"355648\" height=\"100\" src=\"t355648.jpg\" title=\"Click for details and comments about this vehicle\" width=\"235\"/></a>1998 <a href=\"vehicles_make-Ford.html\">Ford</a> <a href=\"vehicles_make-Ford_model-Taurus.html\">Taurus</a> <span class=\"Stars\"><img alt=\"[*]\" height=\"16\" src=\"/res/star.png\" width=\"15\"/></span></div>,\n",
       " <div class=\"ThumbnailBox\"><a class=\"Thumbnail\" href=\"vehicle_355639-Ford-Taurus-SHO-DN5-1993.html\"><img alt=\"355639\" height=\"100\" src=\"t355639.jpg\" title=\"Click for details and comments about this vehicle\" width=\"235\"/></a>1993 <a href=\"vehicles_make-Ford.html\">Ford</a> <a href=\"vehicles_make-Ford_model-Taurus.html\">Taurus</a> <a href=\"vehicles_make-Ford_model-Taurus+SHO.html\">SHO</a> <span class=\"Stars\"><img alt=\"[*]\" height=\"16\" src=\"/res/star.png\" width=\"15\"/></span></div>,\n",
       " <div class=\"ThumbnailBox\"><a class=\"Thumbnail\" href=\"vehicle_310265-Ford-Thunderbird-1983.html\"><img alt=\"310265\" height=\"100\" src=\"t310265.jpg\" title=\"Click for details and comments about this vehicle\" width=\"235\"/></a>1983 <a href=\"vehicles_make-Ford.html\">Ford</a> <a href=\"vehicles_make-Ford_model-Thunderbird.html\">Thunderbird</a> <span class=\"Stars\"><img alt=\"[*]\" height=\"16\" src=\"/res/star.png\" width=\"15\"/></span></div>,\n",
       " <div class=\"ThumbnailBox\"><a class=\"Thumbnail\" href=\"vehicle_355634-GMC-RTS-1980.html\"><img alt=\"355634\" height=\"100\" src=\"t355634.jpg\" title=\"Click for details and comments about this vehicle\" width=\"235\"/></a>1980 <a href=\"vehicles_make-GMC.html\">GMC</a> <a href=\"vehicles_make-GMC_model-RTS.html\">RTS</a> <span class=\"Stars\"><img alt=\"[*]\" height=\"16\" src=\"/res/star.png\" width=\"15\"/></span></div>,\n",
       " <div class=\"ThumbnailBox\"><a class=\"Thumbnail\" href=\"vehicle_319275-Hummer.html\"><img alt=\"319275\" height=\"100\" src=\"t319275.jpg\" title=\"Click for details and comments about this vehicle\" width=\"235\"/></a><a href=\"vehicles_make-Hummer.html\">Hummer</a> <span class=\"Stars\"><img alt=\"[*]\" height=\"16\" src=\"/res/star.png\" width=\"15\"/><img alt=\"[*]\" height=\"16\" src=\"/res/star.png\" width=\"15\"/><img alt=\"[*]\" height=\"16\" src=\"/res/star.png\" width=\"15\"/></span></div>,\n",
       " <div class=\"ThumbnailBox\"><a class=\"Thumbnail\" href=\"vehicle_315034-Hyundai-Genesis-BH-2009.html\"><img alt=\"315034\" height=\"100\" src=\"t315034.jpg\" title=\"Click for details and comments about this vehicle\" width=\"235\"/></a>2009 <a href=\"vehicles_make-Hyundai.html\">Hyundai</a> <a href=\"vehicles_make-Hyundai_model-Genesis.html\">Genesis</a> <span class=\"Stars\"><img alt=\"[*]\" height=\"16\" src=\"/res/star.png\" width=\"15\"/><img alt=\"[*]\" height=\"16\" src=\"/res/star.png\" width=\"15\"/><img alt=\"[*]\" height=\"16\" src=\"/res/star.png\" width=\"15\"/></span></div>,\n",
       " <div class=\"ThumbnailBox\"><a class=\"Thumbnail\" href=\"vehicle_1204000-Infiniti-I30-A32-1996.html\"><img alt=\"1204000\" height=\"100\" src=\"t001204000.jpg\" title=\"Click for details and comments about this vehicle\" width=\"235\"/></a>1996 <a href=\"vehicles_make-Infiniti.html\">Infiniti</a> <a href=\"vehicles_make-Infiniti_model-I30.html\">I30</a> <span class=\"Stars\"><img alt=\"[*]\" height=\"16\" src=\"/res/star.png\" width=\"15\"/></span></div>,\n",
       " <div class=\"ThumbnailBox\"><a class=\"Thumbnail\" href=\"vehicle_355644-Infiniti-Q45-G50-1990.html\"><img alt=\"355644\" height=\"100\" src=\"t355644.jpg\" title=\"Click for details and comments about this vehicle\" width=\"235\"/></a>1990 <a href=\"vehicles_make-Infiniti.html\">Infiniti</a> <a href=\"vehicles_make-Infiniti_model-Q45.html\">Q45</a> <span class=\"Stars\"><img alt=\"[*]\" height=\"16\" src=\"/res/star.png\" width=\"15\"/></span></div>,\n",
       " <div class=\"ThumbnailBox\"><a class=\"Thumbnail\" href=\"vehicle_1203995-Kia-Carens-2003.html\"><img alt=\"1203995\" height=\"100\" src=\"t001203995.jpg\" title=\"Click for details and comments about this vehicle\" width=\"235\"/></a>2003 <a href=\"vehicles_make-Kia.html\">Kia</a> <a href=\"vehicles_make-Kia_model-Carens.html\">Carens</a> <span class=\"Stars\"><img alt=\"[*]\" height=\"16\" src=\"/res/star.png\" width=\"15\"/></span></div>,\n",
       " <div class=\"ThumbnailBox\"><a class=\"Thumbnail\" href=\"vehicle_355631-Land-Rover-Range-Rover-Sport-2005.html\"><img alt=\"355631\" height=\"100\" src=\"t355631.jpg\" title=\"Click for details and comments about this vehicle\" width=\"235\"/></a>2005 <a href=\"vehicles_make-Land-Rover.html\">Land-Rover</a> <a href=\"vehicles_make-Land-Rover_model-Range.html\">Range</a> <a href=\"vehicles_make-Land-Rover_model-Range+Rover.html\">Rover</a> <a href=\"vehicles_make-Land-Rover_model-Range+Rover+Sport.html\">Sport</a> <span class=\"Stars\"><img alt=\"[*]\" height=\"16\" src=\"/res/star.png\" width=\"15\"/><img alt=\"[*]\" height=\"16\" src=\"/res/star.png\" width=\"15\"/></span></div>,\n",
       " <div class=\"ThumbnailBox\"><a class=\"Thumbnail\" href=\"vehicle_320934-Lincoln-Town-Car-1998.html\"><img alt=\"320934\" height=\"100\" src=\"t320934.jpg\" title=\"Click for details and comments about this vehicle\" width=\"235\"/></a>1998 <a href=\"vehicles_make-Lincoln.html\">Lincoln</a> <a href=\"vehicles_make-Lincoln_model-Town.html\">Town</a> <a href=\"vehicles_make-Lincoln_model-Town+Car.html\">Car</a> <span class=\"Stars\"><img alt=\"[*]\" height=\"16\" src=\"/res/star.png\" width=\"15\"/><img alt=\"[*]\" height=\"16\" src=\"/res/star.png\" width=\"15\"/></span></div>,\n",
       " <div class=\"ThumbnailBox\"><a class=\"Thumbnail\" href=\"vehicle_355637-Mack-Mid-Liner-1987.html\"><img alt=\"355637\" height=\"100\" src=\"t355637.jpg\" title=\"Click for details and comments about this vehicle\" width=\"235\"/></a>1987 <a href=\"vehicles_make-Mack.html\">Mack</a> <a href=\"vehicles_make-Mack_model-Mid.html\">Mid</a>-<a href=\"vehicles_make-Mack_model-Mid-Liner.html\">Liner</a> <span class=\"Stars\"><img alt=\"[*]\" height=\"16\" src=\"/res/star.png\" width=\"15\"/></span></div>,\n",
       " <div class=\"ThumbnailBox\"><a class=\"Thumbnail\" href=\"vehicle_324595-Maybach-57-W240-2003.html\"><img alt=\"324595\" height=\"100\" src=\"t324595.jpg\" title=\"Click for details and comments about this vehicle\" width=\"235\"/></a>2003 <a href=\"vehicles_make-Maybach.html\">Maybach</a> <a href=\"vehicles_make-Maybach_model-57.html\">57</a> [<a href=\"vehicles_make-Maybach_model-W240.html\">W240</a>] <span class=\"Stars\"><img alt=\"[*]\" height=\"16\" src=\"/res/star.png\" width=\"15\"/><img alt=\"[*]\" height=\"16\" src=\"/res/star.png\" width=\"15\"/></span></div>,\n",
       " <div class=\"ThumbnailBox\"><a class=\"Thumbnail\" href=\"vehicle_1203996-Mercedes-Benz-A-Klasse-W169-2005.html\"><img alt=\"1203996\" height=\"100\" src=\"t001203996.jpg\" title=\"Click for details and comments about this vehicle\" width=\"235\"/></a>2005 <a href=\"vehicles_make-Mercedes-Benz.html\">Mercedes-Benz</a> <a href=\"vehicles_make-Mercedes-Benz_model-A.html\">A</a>-<a href=\"vehicles_make-Mercedes-Benz_model-A-Klasse.html\">Klasse</a> [<a href=\"vehicles_make-Mercedes-Benz_model-W169.html\">W169</a>] <span class=\"Stars\"><img alt=\"[*]\" height=\"16\" src=\"/res/star.png\" width=\"15\"/></span></div>,\n",
       " <div class=\"ThumbnailBox\"><a class=\"Thumbnail\" href=\"vehicle_355624-Mercedes-Benz-E-Klasse-W212-2009.html\"><img alt=\"355624\" height=\"100\" src=\"t355624.jpg\" title=\"Click for details and comments about this vehicle\" width=\"235\"/></a>2009 <a href=\"vehicles_make-Mercedes-Benz.html\">Mercedes-Benz</a> <a href=\"vehicles_make-Mercedes-Benz_model-E.html\">E</a>-<a href=\"vehicles_make-Mercedes-Benz_model-E-Klasse.html\">Klasse</a> [<a href=\"vehicles_make-Mercedes-Benz_model-W212.html\">W212</a>] <span class=\"Stars\"><img alt=\"[*]\" height=\"16\" src=\"/res/star.png\" width=\"15\"/></span></div>,\n",
       " <div class=\"ThumbnailBox\"><a class=\"Thumbnail\" href=\"vehicle_319276-Mercedes-Benz-GL-X164-2007.html\"><img alt=\"319276\" height=\"100\" src=\"t319276.jpg\" title=\"Click for details and comments about this vehicle\" width=\"235\"/></a>2007 <a href=\"vehicles_make-Mercedes-Benz.html\">Mercedes-Benz</a> <a href=\"vehicles_make-Mercedes-Benz_model-GL.html\">GL</a> [<a href=\"vehicles_make-Mercedes-Benz_model-X164.html\">X164</a>] <span class=\"Stars\"><img alt=\"[*]\" height=\"16\" src=\"/res/star.png\" width=\"15\"/><img alt=\"[*]\" height=\"16\" src=\"/res/star.png\" width=\"15\"/><img alt=\"[*]\" height=\"16\" src=\"/res/star.png\" width=\"15\"/></span></div>,\n",
       " <div class=\"ThumbnailBox\"><a class=\"Thumbnail\" href=\"vehicle_319273-Mercedes-Benz-S-320-W220-2003.html\"><img alt=\"319273\" height=\"100\" src=\"t319273.jpg\" title=\"Click for details and comments about this vehicle\" width=\"235\"/></a>2003 <a href=\"vehicles_make-Mercedes-Benz.html\">Mercedes-Benz</a> <a href=\"vehicles_make-Mercedes-Benz_model-S.html\">S</a> <a href=\"vehicles_make-Mercedes-Benz_model-S+320.html\">320</a> [<a href=\"vehicles_make-Mercedes-Benz_model-W220.html\">W220</a>] <span class=\"Stars\"><img alt=\"[*]\" height=\"16\" src=\"/res/star.png\" width=\"15\"/><img alt=\"[*]\" height=\"16\" src=\"/res/star.png\" width=\"15\"/></span></div>,\n",
       " <div class=\"ThumbnailBox\"><a class=\"Thumbnail\" href=\"vehicle_355632-Mercury-Villager-VX54-1993.html\"><img alt=\"355632\" height=\"100\" src=\"t355632.jpg\" title=\"Click for details and comments about this vehicle\" width=\"235\"/></a>1993 <a href=\"vehicles_make-Mercury.html\">Mercury</a> <a href=\"vehicles_make-Mercury_model-Villager.html\">Villager</a> <span class=\"Stars\"><img alt=\"[*]\" height=\"16\" src=\"/res/star.png\" width=\"15\"/></span></div>,\n",
       " <div class=\"ThumbnailBox\"><a class=\"Thumbnail\" href=\"vehicle_355622-Mini-1000-ADO20-1980.html\"><img alt=\"355622\" height=\"100\" src=\"t355622.jpg\" title=\"Click for details and comments about this vehicle\" width=\"235\"/></a>1980 <a href=\"vehicles_make-Mini.html\">Mini</a> <a href=\"vehicles_make-Mini_model-1000.html\">1000</a> MkIV <span class=\"Stars\"><img alt=\"[*]\" height=\"16\" src=\"/res/star.png\" width=\"15\"/></span></div>,\n",
       " <div class=\"ThumbnailBox\"><a class=\"Thumbnail\" href=\"vehicle_1299481-Nissan-Micra-K11.html\"><img alt=\"1299481\" height=\"100\" src=\"t001299481.jpg\" title=\"Click for details and comments about this vehicle\" width=\"235\"/></a><a href=\"vehicles_make-Nissan.html\">Nissan</a> <a href=\"vehicles_make-Nissan_model-Micra.html\">Micra</a> <span class=\"Stars\"><img alt=\"[*]\" height=\"16\" src=\"/res/star.png\" width=\"15\"/></span></div>,\n",
       " <div class=\"ThumbnailBox\"><a class=\"Thumbnail\" href=\"vehicle_355645-Oldsmobile-Alero-3NL37-1999.html\"><img alt=\"355645\" height=\"100\" src=\"t355645.jpg\" title=\"Click for details and comments about this vehicle\" width=\"235\"/></a>1999 <a href=\"vehicles_make-Oldsmobile.html\">Oldsmobile</a> <a href=\"vehicles_make-Oldsmobile_model-Alero.html\">Alero</a> <span class=\"Stars\"><img alt=\"[*]\" height=\"16\" src=\"/res/star.png\" width=\"15\"/></span></div>,\n",
       " <div class=\"ThumbnailBox\"><a class=\"Thumbnail\" href=\"vehicle_1299486-Peugeot-107-2009.html\"><img alt=\"1299486\" height=\"100\" src=\"t001299486.jpg\" title=\"Click for details and comments about this vehicle\" width=\"235\"/></a>2009 <a href=\"vehicles_make-Peugeot.html\">Peugeot</a> <a href=\"vehicles_make-Peugeot_model-107.html\">107</a> <span class=\"Stars\"><img alt=\"[*]\" height=\"16\" src=\"/res/star.png\" width=\"15\"/></span></div>,\n",
       " <div class=\"ThumbnailBox\"><a class=\"Thumbnail\" href=\"vehicle_355626-Peugeot-206-1999.html\"><img alt=\"355626\" height=\"100\" src=\"t355626.jpg\" title=\"Click for details and comments about this vehicle\" width=\"235\"/></a>1999 <a href=\"vehicles_make-Peugeot.html\">Peugeot</a> <a href=\"vehicles_make-Peugeot_model-206.html\">206</a> <span class=\"Stars\"><img alt=\"[*]\" height=\"16\" src=\"/res/star.png\" width=\"15\"/></span></div>,\n",
       " <div class=\"ThumbnailBox\"><a class=\"Thumbnail\" href=\"vehicle_1299470-Peugeot-306.html\"><img alt=\"1299470\" height=\"100\" src=\"t001299470.jpg\" title=\"Click for details and comments about this vehicle\" width=\"235\"/></a><a href=\"vehicles_make-Peugeot.html\">Peugeot</a> <a href=\"vehicles_make-Peugeot_model-306.html\">306</a> <span class=\"Stars\"><img alt=\"[*]\" height=\"16\" src=\"/res/star.png\" width=\"15\"/></span></div>,\n",
       " <div class=\"ThumbnailBox\"><a class=\"Thumbnail\" href=\"vehicle_355618-Peugeot-308-T7-2008.html\"><img alt=\"355618\" height=\"100\" src=\"t355618.jpg\" title=\"Click for details and comments about this vehicle\" width=\"235\"/></a>2008 <a href=\"vehicles_make-Peugeot.html\">Peugeot</a> <a href=\"vehicles_make-Peugeot_model-308.html\">308</a> <span class=\"Stars\"><img alt=\"[*]\" height=\"16\" src=\"/res/star.png\" width=\"15\"/></span></div>,\n",
       " <div class=\"ThumbnailBox\"><a class=\"Thumbnail\" href=\"vehicle_355619-Peugeot-406-Coupe-1997.html\"><img alt=\"355619\" height=\"100\" src=\"t355619.jpg\" title=\"Click for details and comments about this vehicle\" width=\"235\"/></a>1997 <a href=\"vehicles_make-Peugeot.html\">Peugeot</a> <a href=\"vehicles_make-Peugeot_model-406.html\">406</a> <a href=\"vehicles_make-Peugeot_model-406+Coup%E9.html\">Coupé</a> <span class=\"Stars\"><img alt=\"[*]\" height=\"16\" src=\"/res/star.png\" width=\"15\"/></span></div>,\n",
       " <div class=\"ThumbnailBox\"><a class=\"Thumbnail\" href=\"vehicle_1299477-Renault-18-X34.html\"><img alt=\"1299477\" height=\"100\" src=\"t001299477.jpg\" title=\"Click for details and comments about this vehicle\" width=\"235\"/></a><a href=\"vehicles_make-Renault.html\">Renault</a> <a href=\"vehicles_make-Renault_model-18.html\">18</a> <span class=\"Stars\"><img alt=\"[*]\" height=\"16\" src=\"/res/star.png\" width=\"15\"/></span></div>,\n",
       " <div class=\"ThumbnailBox\"><a class=\"Thumbnail\" href=\"vehicle_355615-Renault-Clio-X85-2010.html\"><img alt=\"355615\" height=\"100\" src=\"t355615.jpg\" title=\"Click for details and comments about this vehicle\" width=\"235\"/></a>2010 <a href=\"vehicles_make-Renault.html\">Renault</a> <a href=\"vehicles_make-Renault_model-Clio.html\">Clio</a> 3 <span class=\"Stars\"><img alt=\"[*]\" height=\"16\" src=\"/res/star.png\" width=\"15\"/></span></div>,\n",
       " <div class=\"ThumbnailBox\"><a class=\"Thumbnail\" href=\"vehicle_310268-Renault-Master-1998.html\"><img alt=\"310268\" height=\"100\" src=\"t310268.jpg\" title=\"Click for details and comments about this vehicle\" width=\"235\"/></a>1998 <a href=\"vehicles_make-Renault.html\">Renault</a> <a href=\"vehicles_make-Renault_model-Master.html\">Master</a> <span class=\"Stars\"><img alt=\"[*]\" height=\"16\" src=\"/res/star.png\" width=\"15\"/></span></div>,\n",
       " <div class=\"ThumbnailBox\"><a class=\"Thumbnail\" href=\"vehicle_310269-Renault-Twingo-X06-1993.html\"><img alt=\"310269\" height=\"100\" src=\"t310269.jpg\" title=\"Click for details and comments about this vehicle\" width=\"235\"/></a>1993 <a href=\"vehicles_make-Renault.html\">Renault</a> <a href=\"vehicles_make-Renault_model-Twingo.html\">Twingo</a> <span class=\"Stars\"><img alt=\"[*]\" height=\"16\" src=\"/res/star.png\" width=\"15\"/></span></div>,\n",
       " <div class=\"ThumbnailBox\"><a class=\"Thumbnail\" href=\"vehicle_323761-SAAB-900-1987.html\"><img alt=\"323761\" height=\"100\" src=\"t323761.jpg\" title=\"Click for details and comments about this vehicle\" width=\"235\"/></a>1987 <a href=\"vehicles_make-SAAB.html\">SAAB</a> <a href=\"vehicles_make-SAAB_model-900.html\">900</a> <span class=\"Stars\"><img alt=\"[*]\" height=\"16\" src=\"/res/star.png\" width=\"15\"/></span></div>,\n",
       " <div class=\"ThumbnailBox\"><a class=\"Thumbnail\" href=\"vehicle_310266-SAAB-9000-CD.html\"><img alt=\"310266\" height=\"100\" src=\"t310266.jpg\" title=\"Click for details and comments about this vehicle\" width=\"235\"/></a><a href=\"vehicles_make-SAAB.html\">SAAB</a> <a href=\"vehicles_make-SAAB_model-9000.html\">9000</a> <a href=\"vehicles_make-SAAB_model-9000+CD.html\">CD</a> <span class=\"Stars\"><img alt=\"[*]\" height=\"16\" src=\"/res/star.png\" width=\"15\"/></span></div>,\n",
       " <div class=\"ThumbnailBox\"><a class=\"Thumbnail\" href=\"vehicle_355627-Simca-1308-C6-1976.html\"><img alt=\"355627\" height=\"100\" src=\"t355627.jpg\" title=\"Click for details and comments about this vehicle\" width=\"235\"/></a>1976 <a href=\"vehicles_make-Simca.html\">Simca</a> <a href=\"vehicles_make-Simca_model-1308.html\">1308</a> <span class=\"Stars\"><img alt=\"[*]\" height=\"16\" src=\"/res/star.png\" width=\"15\"/></span></div>,\n",
       " <div class=\"ThumbnailBox\"><a class=\"Thumbnail\" href=\"vehicle_355635-Sterling-Acterra.html\"><img alt=\"355635\" height=\"100\" src=\"t355635.jpg\" title=\"Click for details and comments about this vehicle\" width=\"235\"/></a><a href=\"vehicles_make-Sterling.html\">Sterling</a> <a href=\"vehicles_make-Sterling_model-Acterra.html\">Acterra</a> <span class=\"Stars\"><img alt=\"[*]\" height=\"16\" src=\"/res/star.png\" width=\"15\"/></span></div>,\n",
       " <div class=\"ThumbnailBox\"><a class=\"Thumbnail\" href=\"vehicle_870786-Toyota-Celica-T180-1990.html\"><img alt=\"870786\" height=\"100\" src=\"t870786.jpg\" title=\"Click for details and comments about this vehicle\" width=\"235\"/></a>1990 <a href=\"vehicles_make-Toyota.html\">Toyota</a> <a href=\"vehicles_make-Toyota_model-Celica.html\">Celica</a> <span class=\"Stars\"><img alt=\"[*]\" height=\"16\" src=\"/res/star.png\" width=\"15\"/></span></div>,\n",
       " <div class=\"ThumbnailBox\"><a class=\"Thumbnail\" href=\"vehicle_355642-Toyota-Truck-RN80-1989.html\"><img alt=\"355642\" height=\"100\" src=\"t355642.jpg\" title=\"Click for details and comments about this vehicle\" width=\"235\"/></a>1989 <a href=\"vehicles_make-Toyota.html\">Toyota</a> <a href=\"vehicles_make-Toyota_model-Truck.html\">Truck</a> <span class=\"Stars\"><img alt=\"[*]\" height=\"16\" src=\"/res/star.png\" width=\"15\"/></span></div>,\n",
       " <div class=\"ThumbnailBox\"><a class=\"Thumbnail\" href=\"vehicle_320933-Toyota-Tundra-2008.html\"><img alt=\"320933\" height=\"100\" src=\"t320933.jpg\" title=\"Click for details and comments about this vehicle\" width=\"235\"/></a>2008 <a href=\"vehicles_make-Toyota.html\">Toyota</a> <a href=\"vehicles_make-Toyota_model-Tundra.html\">Tundra</a> <span class=\"Stars\"><img alt=\"[*]\" height=\"16\" src=\"/res/star.png\" width=\"15\"/><img alt=\"[*]\" height=\"16\" src=\"/res/star.png\" width=\"15\"/></span></div>,\n",
       " <div class=\"ThumbnailBox\"><a class=\"Thumbnail\" href=\"vehicle_355636.html\"><img alt=\"355636\" height=\"100\" src=\"t355636.jpg\" title=\"Click for details and comments about this vehicle\" width=\"235\"/></a><a href=\"vehicles_make-unknown.html\">unknown</a> <span class=\"Stars\"><img alt=\"[*]\" height=\"16\" src=\"/res/star.png\" width=\"15\"/></span></div>,\n",
       " <div class=\"ThumbnailBox\"><a class=\"Thumbnail\" href=\"vehicle_355629-Volkswagen-Derby-Typ-86C-1982.html\"><img alt=\"355629\" height=\"100\" src=\"t355629.jpg\" title=\"Click for details and comments about this vehicle\" width=\"235\"/></a>1982 <a href=\"vehicles_make-Volkswagen.html\">Volkswagen</a> <a href=\"vehicles_make-Volkswagen_model-Derby.html\">Derby</a> II [<a href=\"vehicles_make-Volkswagen_model-Typ+86C.html\">Typ 86C</a>] <span class=\"Stars\"><img alt=\"[*]\" height=\"16\" src=\"/res/star.png\" width=\"15\"/></span></div>,\n",
       " <div class=\"ThumbnailBox\"><a class=\"Thumbnail\" href=\"vehicle_355621-Volkswagen-Golf-Typ-1H-1993.html\"><img alt=\"355621\" height=\"100\" src=\"t355621.jpg\" title=\"Click for details and comments about this vehicle\" width=\"235\"/></a>1993 <a href=\"vehicles_make-Volkswagen.html\">Volkswagen</a> <a href=\"vehicles_make-Volkswagen_model-Golf.html\">Golf</a> III [<a href=\"vehicles_make-Volkswagen_model-Typ+1H.html\">Typ 1H</a>] <span class=\"Stars\"><img alt=\"[*]\" height=\"16\" src=\"/res/star.png\" width=\"15\"/></span></div>,\n",
       " <div class=\"ThumbnailBox\"><a class=\"Thumbnail\" href=\"vehicle_355613-Volkswagen-Golf-Plus-Typ-5M-2009.html\"><img alt=\"355613\" height=\"100\" src=\"t355613.jpg\" title=\"Click for details and comments about this vehicle\" width=\"235\"/></a>2009 <a href=\"vehicles_make-Volkswagen.html\">Volkswagen</a> <a href=\"vehicles_make-Volkswagen_model-Golf.html\">Golf</a> <a href=\"vehicles_make-Volkswagen_model-Golf+Plus.html\">Plus</a> [<a href=\"vehicles_make-Volkswagen_model-Typ+5M.html\">Typ 5M</a>] <span class=\"Stars\"><img alt=\"[*]\" height=\"16\" src=\"/res/star.png\" width=\"15\"/></span></div>,\n",
       " <div class=\"ThumbnailBox\"><a class=\"Thumbnail\" href=\"vehicle_310271-Volkswagen-Jetta-Typ-1H-1996.html\"><img alt=\"310271\" height=\"100\" src=\"t310271.jpg\" title=\"Click for details and comments about this vehicle\" width=\"235\"/></a>1996 <a href=\"vehicles_make-Volkswagen.html\">Volkswagen</a> <a href=\"vehicles_make-Volkswagen_model-Jetta.html\">Jetta</a> A3 [<a href=\"vehicles_make-Volkswagen_model-Typ+1H.html\">Typ 1H</a>] <span class=\"Stars\"><img alt=\"[*]\" height=\"16\" src=\"/res/star.png\" width=\"15\"/></span></div>,\n",
       " <div class=\"ThumbnailBox\"><a class=\"Thumbnail\" href=\"vehicle_355641-Volkswagen-New-Beetle-Typ-1C-1999.html\"><img alt=\"355641\" height=\"100\" src=\"t355641.jpg\" title=\"Click for details and comments about this vehicle\" width=\"235\"/></a>1999 <a href=\"vehicles_make-Volkswagen.html\">Volkswagen</a> <a href=\"vehicles_make-Volkswagen_model-New.html\">New</a> <a href=\"vehicles_make-Volkswagen_model-New+Beetle.html\">Beetle</a> [<a href=\"vehicles_make-Volkswagen_model-Typ+1C.html\">Typ 1C</a>] <span class=\"Stars\"><img alt=\"[*]\" height=\"16\" src=\"/res/star.png\" width=\"15\"/></span></div>,\n",
       " <div class=\"ThumbnailBox\"><a class=\"Thumbnail\" href=\"vehicle_355628-Volkswagen-Passat-Typ-32-1978.html\"><img alt=\"355628\" height=\"100\" src=\"t355628.jpg\" title=\"Click for details and comments about this vehicle\" width=\"235\"/></a>1978 <a href=\"vehicles_make-Volkswagen.html\">Volkswagen</a> <a href=\"vehicles_make-Volkswagen_model-Passat.html\">Passat</a> B1 [<a href=\"vehicles_make-Volkswagen_model-Typ+32.html\">Typ 32</a>] <span class=\"Stars\"><img alt=\"[*]\" height=\"16\" src=\"/res/star.png\" width=\"15\"/></span></div>,\n",
       " <div class=\"ThumbnailBox\"><a class=\"Thumbnail\" href=\"vehicle_355640-Volvo-740-745-1986.html\"><img alt=\"355640\" height=\"100\" src=\"t355640.jpg\" title=\"Click for details and comments about this vehicle\" width=\"235\"/></a>1986 <a href=\"vehicles_make-Volvo.html\">Volvo</a> <a href=\"vehicles_make-Volvo_model-740.html\">740</a> <span class=\"Stars\"><img alt=\"[*]\" height=\"16\" src=\"/res/star.png\" width=\"15\"/></span></div>,\n",
       " <div class=\"ThumbnailBox\"><a class=\"Thumbnail\" href=\"vehicle_355643-Volvo-760-764-1986.html\"><img alt=\"355643\" height=\"100\" src=\"t355643.jpg\" title=\"Click for details and comments about this vehicle\" width=\"235\"/></a>1986 <a href=\"vehicles_make-Volvo.html\">Volvo</a> <a href=\"vehicles_make-Volvo_model-760.html\">760</a> <span class=\"Stars\"><img alt=\"[*]\" height=\"16\" src=\"/res/star.png\" width=\"15\"/></span></div>,\n",
       " <div class=\"ThumbnailBox\"><a class=\"Thumbnail\" href=\"vehicle_1299480-Volvo-S40.html\"><img alt=\"1299480\" height=\"100\" src=\"t001299480.jpg\" title=\"Click for details and comments about this vehicle\" width=\"235\"/></a><a href=\"vehicles_make-Volvo.html\">Volvo</a> <a href=\"vehicles_make-Volvo_model-S40.html\">S40</a> <span class=\"Stars\"><img alt=\"[*]\" height=\"16\" src=\"/res/star.png\" width=\"15\"/></span></div>,\n",
       " <div class=\"ThumbnailBox\"><a class=\"Thumbnail\" href=\"vehicle_355651-Volvo-S40-2000.html\"><img alt=\"355651\" height=\"100\" src=\"t355651.jpg\" title=\"Click for details and comments about this vehicle\" width=\"235\"/></a>2000 <a href=\"vehicles_make-Volvo.html\">Volvo</a> <a href=\"vehicles_make-Volvo_model-S40.html\">S40</a> <span class=\"Stars\"><img alt=\"[*]\" height=\"16\" src=\"/res/star.png\" width=\"15\"/></span></div>,\n",
       " <div class=\"ThumbnailBox\"><a class=\"Thumbnail\" href=\"vehicle_1203997-Yamaha.html\"><img alt=\"1203997\" height=\"100\" src=\"t001203997.jpg\" title=\"Click for details and comments about this vehicle\" width=\"235\"/></a><a href=\"vehicles_make-Yamaha.html\">Yamaha</a> <a href=\"vehicles_make-Yamaha_model-unknown.html\">unknown</a> <span class=\"Stars\"><img alt=\"[*]\" height=\"16\" src=\"/res/star.png\" width=\"15\"/></span></div>]"
      ]
     },
     "execution_count": 23,
     "metadata": {},
     "output_type": "execute_result"
    }
   ],
   "source": [
    "results"
   ]
  },
  {
   "cell_type": "code",
   "execution_count": 37,
   "metadata": {},
   "outputs": [
    {
     "name": "stdout",
     "output_type": "stream",
     "text": [
      "1: vehicle_870785-Acura-CL-YA-1998.html, 1 Star(s)\n",
      "2: vehicle_1299489-BMW-3-E30-1984.html, 1 Star(s)\n",
      "3: vehicle_355633-BMW-3-E30-1990.html, 1 Star(s)\n",
      "4: vehicle_320935-BMW-7-E38-1999.html, 2 Star(s)\n",
      "5: vehicle_355662-Buick-LeSabre-1992.html, 1 Star(s)\n",
      "6: vehicle_355638-Buick-LeSabre-GMX220-2000.html, 1 Star(s)\n",
      "7: vehicle_355652-Cadillac-DeVille-1997.html, 1 Star(s)\n",
      "8: vehicle_355650-Chrysler-New-Yorker-1983.html, 1 Star(s)\n",
      "9: vehicle_355614-Citroen-C3-2006.html, 1 Star(s)\n",
      "10: vehicle_1203998-Citroen-C4-2005.html, 1 Star(s)\n",
      "11: vehicle_355620-Citroen-Xantia-1998.html, 1 Star(s)\n",
      "12: vehicle_323949-Daihatsu-Hijet-S80.html, 2 Star(s)\n",
      "13: vehicle_310267-Ducati-Streetfighter.html, 2 Star(s)\n",
      "14: vehicle_355623-Fiat-Ducato-2002.html, 1 Star(s)\n",
      "15: vehicle_355612-Fiat-Grande-Punto-199-2006.html, 1 Star(s)\n",
      "16: vehicle_310270-Ford-Crown-Victoria-2001.html, 3 Star(s)\n",
      "17: vehicle_319274-Ford-E-350-2003.html, 4 Star(s)\n",
      "18: vehicle_1203999-Ford-Fusion-2002.html, 1 Star(s)\n",
      "19: vehicle_355648-Ford-Taurus-DN101-1998.html, 1 Star(s)\n",
      "20: vehicle_355639-Ford-Taurus-SHO-DN5-1993.html, 1 Star(s)\n",
      "21: vehicle_310265-Ford-Thunderbird-1983.html, 1 Star(s)\n",
      "22: vehicle_355634-GMC-RTS-1980.html, 1 Star(s)\n",
      "23: vehicle_319275-Hummer.html, 3 Star(s)\n",
      "24: vehicle_315034-Hyundai-Genesis-BH-2009.html, 3 Star(s)\n",
      "25: vehicle_1204000-Infiniti-I30-A32-1996.html, 1 Star(s)\n",
      "26: vehicle_355644-Infiniti-Q45-G50-1990.html, 1 Star(s)\n",
      "27: vehicle_1203995-Kia-Carens-2003.html, 1 Star(s)\n",
      "28: vehicle_355631-Land-Rover-Range-Rover-Sport-2005.html, 2 Star(s)\n",
      "29: vehicle_320934-Lincoln-Town-Car-1998.html, 2 Star(s)\n",
      "30: vehicle_355637-Mack-Mid-Liner-1987.html, 1 Star(s)\n",
      "31: vehicle_324595-Maybach-57-W240-2003.html, 2 Star(s)\n",
      "32: vehicle_1203996-Mercedes-Benz-A-Klasse-W169-2005.html, 1 Star(s)\n",
      "33: vehicle_355624-Mercedes-Benz-E-Klasse-W212-2009.html, 1 Star(s)\n",
      "34: vehicle_319276-Mercedes-Benz-GL-X164-2007.html, 3 Star(s)\n",
      "35: vehicle_319273-Mercedes-Benz-S-320-W220-2003.html, 2 Star(s)\n",
      "36: vehicle_355632-Mercury-Villager-VX54-1993.html, 1 Star(s)\n",
      "37: vehicle_355622-Mini-1000-ADO20-1980.html, 1 Star(s)\n",
      "38: vehicle_1299481-Nissan-Micra-K11.html, 1 Star(s)\n",
      "39: vehicle_355645-Oldsmobile-Alero-3NL37-1999.html, 1 Star(s)\n",
      "40: vehicle_1299486-Peugeot-107-2009.html, 1 Star(s)\n",
      "41: vehicle_355626-Peugeot-206-1999.html, 1 Star(s)\n",
      "42: vehicle_1299470-Peugeot-306.html, 1 Star(s)\n",
      "43: vehicle_355618-Peugeot-308-T7-2008.html, 1 Star(s)\n",
      "44: vehicle_355619-Peugeot-406-Coupe-1997.html, 1 Star(s)\n",
      "45: vehicle_1299477-Renault-18-X34.html, 1 Star(s)\n",
      "46: vehicle_355615-Renault-Clio-X85-2010.html, 1 Star(s)\n",
      "47: vehicle_310268-Renault-Master-1998.html, 1 Star(s)\n",
      "48: vehicle_310269-Renault-Twingo-X06-1993.html, 1 Star(s)\n",
      "49: vehicle_323761-SAAB-900-1987.html, 1 Star(s)\n",
      "50: vehicle_310266-SAAB-9000-CD.html, 1 Star(s)\n",
      "51: vehicle_355627-Simca-1308-C6-1976.html, 1 Star(s)\n",
      "52: vehicle_355635-Sterling-Acterra.html, 1 Star(s)\n",
      "53: vehicle_870786-Toyota-Celica-T180-1990.html, 1 Star(s)\n",
      "54: vehicle_355642-Toyota-Truck-RN80-1989.html, 1 Star(s)\n",
      "55: vehicle_320933-Toyota-Tundra-2008.html, 2 Star(s)\n",
      "56: vehicle_355636.html, 1 Star(s)\n",
      "57: vehicle_355629-Volkswagen-Derby-Typ-86C-1982.html, 1 Star(s)\n",
      "58: vehicle_355621-Volkswagen-Golf-Typ-1H-1993.html, 1 Star(s)\n",
      "59: vehicle_355613-Volkswagen-Golf-Plus-Typ-5M-2009.html, 1 Star(s)\n",
      "60: vehicle_310271-Volkswagen-Jetta-Typ-1H-1996.html, 1 Star(s)\n",
      "61: vehicle_355641-Volkswagen-New-Beetle-Typ-1C-1999.html, 1 Star(s)\n",
      "62: vehicle_355628-Volkswagen-Passat-Typ-32-1978.html, 1 Star(s)\n",
      "63: vehicle_355640-Volvo-740-745-1986.html, 1 Star(s)\n",
      "64: vehicle_355643-Volvo-760-764-1986.html, 1 Star(s)\n",
      "65: vehicle_1299480-Volvo-S40.html, 1 Star(s)\n",
      "66: vehicle_355651-Volvo-S40-2000.html, 1 Star(s)\n",
      "67: vehicle_1203997-Yamaha.html, 1 Star(s)\n"
     ]
    }
   ],
   "source": [
    "count = 0\n",
    "for result in results:\n",
    "    x = result.find('span', class_='Stars')\n",
    "    y = len(x)\n",
    "    z = result.find('a')['href']\n",
    "    count = count + 1\n",
    "    print(f\"{count}: {z}, {y} Star(s)\")"
   ]
  },
  {
   "cell_type": "code",
   "execution_count": 50,
   "metadata": {},
   "outputs": [],
   "source": [
    "# visit https://www.imcdb.org/ website url\n",
    "url = \"https://www.imcdb.org/\"\n",
    "browser.visit(url)"
   ]
  },
  {
   "cell_type": "code",
   "execution_count": 51,
   "metadata": {},
   "outputs": [],
   "source": [
    "browser.find_by_css('input').fill('Avatar')"
   ]
  },
  {
   "cell_type": "code",
   "execution_count": 52,
   "metadata": {},
   "outputs": [],
   "source": [
    "browser.find_by_value('Search').click()"
   ]
  },
  {
   "cell_type": "code",
   "execution_count": 53,
   "metadata": {},
   "outputs": [],
   "source": [
    "# create HTML object\n",
    "html = browser.html\n",
    "# parse HTML with BeautifulSoup\n",
    "soup = bs(html, 'html.parser')"
   ]
  },
  {
   "cell_type": "code",
   "execution_count": 54,
   "metadata": {},
   "outputs": [
    {
     "name": "stdout",
     "output_type": "stream",
     "text": [
      "extra step taken\n"
     ]
    }
   ],
   "source": [
    "# attempt to find elements that contain car data\n",
    "results = soup.find_all('div', class_='ThumbnailBox')\n",
    "if len(results) != 0:\n",
    "    print(\"everything good\")\n",
    "    good = 1\n",
    "else:\n",
    "    good = 0\n",
    "    print(\"extra step taken\")\n",
    "    browser.links.find_by_text('Avatar').click()"
   ]
  },
  {
   "cell_type": "code",
   "execution_count": 59,
   "metadata": {},
   "outputs": [
    {
     "name": "stdout",
     "output_type": "stream",
     "text": [
      "nothing to see here\n"
     ]
    }
   ],
   "source": [
    "if good == 1:\n",
    "    good2 = 1\n",
    "    print(\"still good\")\n",
    "else:\n",
    "    # create HTML object\n",
    "    html = browser.html\n",
    "    # parse HTML with BeautifulSoup\n",
    "    soup = bs(html, 'html.parser')\n",
    "    results = soup.find_all('div', class_='ThumbnailBox')\n",
    "    if len(results) != 0:\n",
    "        print(\"everything good now\")\n",
    "    else:\n",
    "        good2 = 0\n",
    "        print(\"nothing to see here\")"
   ]
  },
  {
   "cell_type": "code",
   "execution_count": 60,
   "metadata": {},
   "outputs": [],
   "source": [
    "if good2 == 1:\n",
    "    count = 0\n",
    "    for result in results:\n",
    "        x = result.find('span', class_='Stars')\n",
    "        y = len(x)\n",
    "        z = result.find('a')['href']\n",
    "        count = count + 1\n",
    "        print(f\"{count}: {z}, {y} Star(s)\")\n",
    "else:\n",
    "    pass"
   ]
  },
  {
   "cell_type": "code",
   "execution_count": 61,
   "metadata": {},
   "outputs": [],
   "source": [
    "# visit https://www.imcdb.org/ website url\n",
    "url = \"https://www.imcdb.org/\"\n",
    "browser.visit(url)"
   ]
  },
  {
   "cell_type": "code",
   "execution_count": 62,
   "metadata": {},
   "outputs": [],
   "source": [
    "browser.find_by_css('input').fill('Inception')"
   ]
  },
  {
   "cell_type": "code",
   "execution_count": 63,
   "metadata": {},
   "outputs": [],
   "source": [
    "browser.find_by_value('Search').click()"
   ]
  },
  {
   "cell_type": "code",
   "execution_count": 64,
   "metadata": {},
   "outputs": [],
   "source": [
    "# create HTML object\n",
    "html = browser.html\n",
    "# parse HTML with BeautifulSoup\n",
    "soup = bs(html, 'html.parser')"
   ]
  },
  {
   "cell_type": "code",
   "execution_count": 65,
   "metadata": {},
   "outputs": [
    {
     "name": "stdout",
     "output_type": "stream",
     "text": [
      "everything good\n"
     ]
    }
   ],
   "source": [
    "# attempt to find elements that contain car data\n",
    "results = soup.find_all('div', class_='ThumbnailBox')\n",
    "if len(results) != 0:\n",
    "    print(\"everything good\")\n",
    "    good = 1\n",
    "else:\n",
    "    good = 0\n",
    "    print(\"extra step taken\")\n",
    "    browser.links.find_by_text('Inception').click()"
   ]
  },
  {
   "cell_type": "code",
   "execution_count": 66,
   "metadata": {},
   "outputs": [
    {
     "name": "stdout",
     "output_type": "stream",
     "text": [
      "still good\n",
      "1: vehicle_870785-Acura-CL-YA-1998.html, 1 Star(s)\n",
      "2: vehicle_1299489-BMW-3-E30-1984.html, 1 Star(s)\n",
      "3: vehicle_355633-BMW-3-E30-1990.html, 1 Star(s)\n",
      "4: vehicle_320935-BMW-7-E38-1999.html, 2 Star(s)\n",
      "5: vehicle_355662-Buick-LeSabre-1992.html, 1 Star(s)\n",
      "6: vehicle_355638-Buick-LeSabre-GMX220-2000.html, 1 Star(s)\n",
      "7: vehicle_355652-Cadillac-DeVille-1997.html, 1 Star(s)\n",
      "8: vehicle_355650-Chrysler-New-Yorker-1983.html, 1 Star(s)\n",
      "9: vehicle_355614-Citroen-C3-2006.html, 1 Star(s)\n",
      "10: vehicle_1203998-Citroen-C4-2005.html, 1 Star(s)\n",
      "11: vehicle_355620-Citroen-Xantia-1998.html, 1 Star(s)\n",
      "12: vehicle_323949-Daihatsu-Hijet-S80.html, 2 Star(s)\n",
      "13: vehicle_310267-Ducati-Streetfighter.html, 2 Star(s)\n",
      "14: vehicle_355623-Fiat-Ducato-2002.html, 1 Star(s)\n",
      "15: vehicle_355612-Fiat-Grande-Punto-199-2006.html, 1 Star(s)\n",
      "16: vehicle_310270-Ford-Crown-Victoria-2001.html, 3 Star(s)\n",
      "17: vehicle_319274-Ford-E-350-2003.html, 4 Star(s)\n",
      "18: vehicle_1203999-Ford-Fusion-2002.html, 1 Star(s)\n",
      "19: vehicle_355648-Ford-Taurus-DN101-1998.html, 1 Star(s)\n",
      "20: vehicle_355639-Ford-Taurus-SHO-DN5-1993.html, 1 Star(s)\n",
      "21: vehicle_310265-Ford-Thunderbird-1983.html, 1 Star(s)\n",
      "22: vehicle_355634-GMC-RTS-1980.html, 1 Star(s)\n",
      "23: vehicle_319275-Hummer.html, 3 Star(s)\n",
      "24: vehicle_315034-Hyundai-Genesis-BH-2009.html, 3 Star(s)\n",
      "25: vehicle_1204000-Infiniti-I30-A32-1996.html, 1 Star(s)\n",
      "26: vehicle_355644-Infiniti-Q45-G50-1990.html, 1 Star(s)\n",
      "27: vehicle_1203995-Kia-Carens-2003.html, 1 Star(s)\n",
      "28: vehicle_355631-Land-Rover-Range-Rover-Sport-2005.html, 2 Star(s)\n",
      "29: vehicle_320934-Lincoln-Town-Car-1998.html, 2 Star(s)\n",
      "30: vehicle_355637-Mack-Mid-Liner-1987.html, 1 Star(s)\n",
      "31: vehicle_324595-Maybach-57-W240-2003.html, 2 Star(s)\n",
      "32: vehicle_1203996-Mercedes-Benz-A-Klasse-W169-2005.html, 1 Star(s)\n",
      "33: vehicle_355624-Mercedes-Benz-E-Klasse-W212-2009.html, 1 Star(s)\n",
      "34: vehicle_319276-Mercedes-Benz-GL-X164-2007.html, 3 Star(s)\n",
      "35: vehicle_319273-Mercedes-Benz-S-320-W220-2003.html, 2 Star(s)\n",
      "36: vehicle_355632-Mercury-Villager-VX54-1993.html, 1 Star(s)\n",
      "37: vehicle_355622-Mini-1000-ADO20-1980.html, 1 Star(s)\n",
      "38: vehicle_1299481-Nissan-Micra-K11.html, 1 Star(s)\n",
      "39: vehicle_355645-Oldsmobile-Alero-3NL37-1999.html, 1 Star(s)\n",
      "40: vehicle_1299486-Peugeot-107-2009.html, 1 Star(s)\n",
      "41: vehicle_355626-Peugeot-206-1999.html, 1 Star(s)\n",
      "42: vehicle_1299470-Peugeot-306.html, 1 Star(s)\n",
      "43: vehicle_355618-Peugeot-308-T7-2008.html, 1 Star(s)\n",
      "44: vehicle_355619-Peugeot-406-Coupe-1997.html, 1 Star(s)\n",
      "45: vehicle_1299477-Renault-18-X34.html, 1 Star(s)\n",
      "46: vehicle_355615-Renault-Clio-X85-2010.html, 1 Star(s)\n",
      "47: vehicle_310268-Renault-Master-1998.html, 1 Star(s)\n",
      "48: vehicle_310269-Renault-Twingo-X06-1993.html, 1 Star(s)\n",
      "49: vehicle_323761-SAAB-900-1987.html, 1 Star(s)\n",
      "50: vehicle_310266-SAAB-9000-CD.html, 1 Star(s)\n",
      "51: vehicle_355627-Simca-1308-C6-1976.html, 1 Star(s)\n",
      "52: vehicle_355635-Sterling-Acterra.html, 1 Star(s)\n",
      "53: vehicle_870786-Toyota-Celica-T180-1990.html, 1 Star(s)\n",
      "54: vehicle_355642-Toyota-Truck-RN80-1989.html, 1 Star(s)\n",
      "55: vehicle_320933-Toyota-Tundra-2008.html, 2 Star(s)\n",
      "56: vehicle_355636.html, 1 Star(s)\n",
      "57: vehicle_355629-Volkswagen-Derby-Typ-86C-1982.html, 1 Star(s)\n",
      "58: vehicle_355621-Volkswagen-Golf-Typ-1H-1993.html, 1 Star(s)\n",
      "59: vehicle_355613-Volkswagen-Golf-Plus-Typ-5M-2009.html, 1 Star(s)\n",
      "60: vehicle_310271-Volkswagen-Jetta-Typ-1H-1996.html, 1 Star(s)\n",
      "61: vehicle_355641-Volkswagen-New-Beetle-Typ-1C-1999.html, 1 Star(s)\n",
      "62: vehicle_355628-Volkswagen-Passat-Typ-32-1978.html, 1 Star(s)\n",
      "63: vehicle_355640-Volvo-740-745-1986.html, 1 Star(s)\n",
      "64: vehicle_355643-Volvo-760-764-1986.html, 1 Star(s)\n",
      "65: vehicle_1299480-Volvo-S40.html, 1 Star(s)\n",
      "66: vehicle_355651-Volvo-S40-2000.html, 1 Star(s)\n",
      "67: vehicle_1203997-Yamaha.html, 1 Star(s)\n"
     ]
    }
   ],
   "source": [
    "if good == 1:\n",
    "    good2 = 1\n",
    "    print(\"still good\")\n",
    "else:\n",
    "    # create HTML object\n",
    "    html = browser.html\n",
    "    # parse HTML with BeautifulSoup\n",
    "    soup = bs(html, 'html.parser')\n",
    "    results = soup.find_all('div', class_='ThumbnailBox')\n",
    "    if len(results) != 0:\n",
    "        print(\"everything good now\")\n",
    "    else:\n",
    "        good2 = 0\n",
    "        print(\"nothing to see here\")\n",
    "if good2 == 1:\n",
    "    count = 0\n",
    "    for result in results:\n",
    "        x = result.find('span', class_='Stars')\n",
    "        y = len(x)\n",
    "        z = result.find('a')['href']\n",
    "        count = count + 1\n",
    "        print(f\"{count}: {z}, {y} Star(s)\")\n",
    "else:\n",
    "    pass"
   ]
  },
  {
   "cell_type": "code",
   "execution_count": 67,
   "metadata": {},
   "outputs": [],
   "source": [
    "browser.quit()"
   ]
  },
  {
   "cell_type": "code",
   "execution_count": null,
   "metadata": {},
   "outputs": [],
   "source": []
  }
 ],
 "metadata": {
  "kernelspec": {
   "display_name": "Python 3",
   "language": "python",
   "name": "python3"
  },
  "language_info": {
   "codemirror_mode": {
    "name": "ipython",
    "version": 3
   },
   "file_extension": ".py",
   "mimetype": "text/x-python",
   "name": "python",
   "nbconvert_exporter": "python",
   "pygments_lexer": "ipython3",
   "version": "3.8.3"
  }
 },
 "nbformat": 4,
 "nbformat_minor": 4
}
